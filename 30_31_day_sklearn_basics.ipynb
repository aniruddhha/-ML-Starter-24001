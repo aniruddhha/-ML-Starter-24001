{
  "nbformat": 4,
  "nbformat_minor": 0,
  "metadata": {
    "colab": {
      "provenance": []
    },
    "kernelspec": {
      "name": "python3",
      "display_name": "Python 3"
    },
    "language_info": {
      "name": "python"
    }
  },
  "cells": [
    {
      "cell_type": "code",
      "execution_count": 205,
      "metadata": {
        "id": "93Y1HQVXlTEV"
      },
      "outputs": [],
      "source": [
        "import matplotlib.pyplot as plt\n",
        "import numpy as np"
      ]
    },
    {
      "cell_type": "code",
      "source": [
        "from sklearn import linear_model"
      ],
      "metadata": {
        "id": "eAi7oj1GvRvZ"
      },
      "execution_count": 206,
      "outputs": []
    },
    {
      "cell_type": "code",
      "source": [
        "np.random.seed(42)\n",
        "n_samples = 180\n",
        "X = np.linspace(0, 10, n_samples) # static data\n",
        "y = 2.5 * (X) + np.random.normal(0, 0.5, n_samples) # static data"
      ],
      "metadata": {
        "id": "ysaW8YlYpLgT"
      },
      "execution_count": 207,
      "outputs": []
    },
    {
      "cell_type": "code",
      "source": [
        "X"
      ],
      "metadata": {
        "colab": {
          "base_uri": "https://localhost:8080/"
        },
        "id": "pkppNhwZpa7L",
        "outputId": "017a5142-bd9d-404f-e2b9-daa2508bc59d"
      },
      "execution_count": 208,
      "outputs": [
        {
          "output_type": "execute_result",
          "data": {
            "text/plain": [
              "array([ 0.        ,  0.05586592,  0.11173184,  0.16759777,  0.22346369,\n",
              "        0.27932961,  0.33519553,  0.39106145,  0.44692737,  0.5027933 ,\n",
              "        0.55865922,  0.61452514,  0.67039106,  0.72625698,  0.78212291,\n",
              "        0.83798883,  0.89385475,  0.94972067,  1.00558659,  1.06145251,\n",
              "        1.11731844,  1.17318436,  1.22905028,  1.2849162 ,  1.34078212,\n",
              "        1.39664804,  1.45251397,  1.50837989,  1.56424581,  1.62011173,\n",
              "        1.67597765,  1.73184358,  1.7877095 ,  1.84357542,  1.89944134,\n",
              "        1.95530726,  2.01117318,  2.06703911,  2.12290503,  2.17877095,\n",
              "        2.23463687,  2.29050279,  2.34636872,  2.40223464,  2.45810056,\n",
              "        2.51396648,  2.5698324 ,  2.62569832,  2.68156425,  2.73743017,\n",
              "        2.79329609,  2.84916201,  2.90502793,  2.96089385,  3.01675978,\n",
              "        3.0726257 ,  3.12849162,  3.18435754,  3.24022346,  3.29608939,\n",
              "        3.35195531,  3.40782123,  3.46368715,  3.51955307,  3.57541899,\n",
              "        3.63128492,  3.68715084,  3.74301676,  3.79888268,  3.8547486 ,\n",
              "        3.91061453,  3.96648045,  4.02234637,  4.07821229,  4.13407821,\n",
              "        4.18994413,  4.24581006,  4.30167598,  4.3575419 ,  4.41340782,\n",
              "        4.46927374,  4.52513966,  4.58100559,  4.63687151,  4.69273743,\n",
              "        4.74860335,  4.80446927,  4.8603352 ,  4.91620112,  4.97206704,\n",
              "        5.02793296,  5.08379888,  5.1396648 ,  5.19553073,  5.25139665,\n",
              "        5.30726257,  5.36312849,  5.41899441,  5.47486034,  5.53072626,\n",
              "        5.58659218,  5.6424581 ,  5.69832402,  5.75418994,  5.81005587,\n",
              "        5.86592179,  5.92178771,  5.97765363,  6.03351955,  6.08938547,\n",
              "        6.1452514 ,  6.20111732,  6.25698324,  6.31284916,  6.36871508,\n",
              "        6.42458101,  6.48044693,  6.53631285,  6.59217877,  6.64804469,\n",
              "        6.70391061,  6.75977654,  6.81564246,  6.87150838,  6.9273743 ,\n",
              "        6.98324022,  7.03910615,  7.09497207,  7.15083799,  7.20670391,\n",
              "        7.26256983,  7.31843575,  7.37430168,  7.4301676 ,  7.48603352,\n",
              "        7.54189944,  7.59776536,  7.65363128,  7.70949721,  7.76536313,\n",
              "        7.82122905,  7.87709497,  7.93296089,  7.98882682,  8.04469274,\n",
              "        8.10055866,  8.15642458,  8.2122905 ,  8.26815642,  8.32402235,\n",
              "        8.37988827,  8.43575419,  8.49162011,  8.54748603,  8.60335196,\n",
              "        8.65921788,  8.7150838 ,  8.77094972,  8.82681564,  8.88268156,\n",
              "        8.93854749,  8.99441341,  9.05027933,  9.10614525,  9.16201117,\n",
              "        9.21787709,  9.27374302,  9.32960894,  9.38547486,  9.44134078,\n",
              "        9.4972067 ,  9.55307263,  9.60893855,  9.66480447,  9.72067039,\n",
              "        9.77653631,  9.83240223,  9.88826816,  9.94413408, 10.        ])"
            ]
          },
          "metadata": {},
          "execution_count": 208
        }
      ]
    },
    {
      "cell_type": "code",
      "source": [
        "y"
      ],
      "metadata": {
        "colab": {
          "base_uri": "https://localhost:8080/"
        },
        "id": "h9Bj4GJrpcha",
        "outputId": "90d26679-5b4c-44c1-a082-0c6ee5505f55"
      },
      "execution_count": 209,
      "outputs": [
        {
          "output_type": "execute_result",
          "data": {
            "text/plain": [
              "array([ 0.24835708,  0.07053265,  0.60317388,  1.18050934,  0.44158253,\n",
              "        0.58125554,  1.62759523,  1.361371  ,  0.88258124,  1.52826326,\n",
              "        1.1649392 ,  1.30344797,  1.79695879,  0.85900234,  1.09284835,\n",
              "        1.8138283 ,  1.72822131,  2.53142534,  2.05995444,  1.94747943,\n",
              "        3.52612047,  2.82007274,  3.1063898 ,  2.49991641,  3.07976394,\n",
              "        3.54708141,  3.05578813,  3.95879873,  3.61029518,  3.90443245,\n",
              "        3.88909083,  5.25574803,  4.46252513,  4.08008308,  5.15987581,\n",
              "        4.27784633,  5.13236476,  4.1877627 ,  4.64316955,  5.54535799,\n",
              "        5.95582547,  5.81194112,  5.80809765,  5.85503474,  5.4059904 ,\n",
              "        5.9249941 ,  6.19426162,  7.09280692,  6.87571976,  5.96205534,\n",
              "        7.14528221,  6.93036389,  6.92410883,  7.70807278,  8.0573992 ,\n",
              "        8.14720431,  7.40162029,  7.80628767,  8.26619037,  8.72799603,\n",
              "        8.14030115,  8.42672358,  8.10605039,  8.20077937,  9.3448104 ,\n",
              "        9.7563323 ,  9.18187203,  9.85930835,  9.67802472,  9.31431163,\n",
              "        9.95723412, 10.6852194 , 10.0379529 , 10.97785255,  9.02532298,\n",
              "       10.88581159, 10.65804867, 10.60468627, 10.93973514, 10.0397351 ,\n",
              "       11.06334841, 11.49140545, 12.19146099, 11.33304366, 11.32759677,\n",
              "       11.62062986, 12.46887424, 12.31521354, 12.02562269, 12.68680131,\n",
              "       12.61837118, 13.1938197 , 12.49813546, 12.82499574, 12.93243754,\n",
              "       12.53639895, 13.55588137, 13.67801367, 13.68970757, 13.70952208,\n",
              "       13.25879508, 13.89582259, 14.0744528 , 13.98433623, 14.44449681,\n",
              "       14.8668299 , 15.74756222, 15.03142298, 15.21257408, 15.18624073,\n",
              "       14.40374288, 15.48953636, 15.67257321, 17.01374396, 15.82560723,\n",
              "       16.21222619, 16.18376143, 15.7564431 , 17.05185833, 16.99607825,\n",
              "       17.15529251, 16.44474761, 17.7405033 , 16.47784542, 17.6118643 ,\n",
              "       18.55332837, 17.1024972 , 17.4542813 , 17.92692065, 17.76502195,\n",
              "       17.38109287, 18.33037087, 17.90460233, 18.81221521, 18.25537168,\n",
              "       19.62971581, 18.60278676, 18.97304745, 19.68050163, 18.79797566,\n",
              "       19.66680259, 20.34630881, 19.02866062, 20.06438397, 20.24167324,\n",
              "       20.64230808, 19.7725861 , 19.87049795, 20.93136184, 20.9585482 ,\n",
              "       21.0749671 , 21.26260958, 20.88903792, 21.48484193, 21.65491612,\n",
              "       21.29086898, 22.72059675, 22.16429076, 21.47138736, 22.53498071,\n",
              "       21.85902788, 22.87957582, 23.20499611, 22.35502197, 23.386716  ,\n",
              "       23.2510832 , 23.59538762, 24.27241884, 23.34099309, 23.22648387,\n",
              "       23.29825954, 23.47477642, 23.98379551, 24.33258716, 24.44002138,\n",
              "       24.85493241, 24.58750653, 25.44743743, 24.72800678, 26.36008458])"
            ]
          },
          "metadata": {},
          "execution_count": 209
        }
      ]
    },
    {
      "cell_type": "code",
      "source": [
        "# 0.65413392485 => ?"
      ],
      "metadata": {
        "id": "_9OUdDx0pgT3"
      },
      "execution_count": 210,
      "outputs": []
    },
    {
      "cell_type": "code",
      "source": [
        "X.shape"
      ],
      "metadata": {
        "colab": {
          "base_uri": "https://localhost:8080/"
        },
        "id": "_2Duyd_ouCoa",
        "outputId": "e8e5087f-ac4e-4112-db2c-93eafad871a1"
      },
      "execution_count": 211,
      "outputs": [
        {
          "output_type": "execute_result",
          "data": {
            "text/plain": [
              "(180,)"
            ]
          },
          "metadata": {},
          "execution_count": 211
        }
      ]
    },
    {
      "cell_type": "code",
      "source": [
        "y.shape"
      ],
      "metadata": {
        "colab": {
          "base_uri": "https://localhost:8080/"
        },
        "id": "xfmuINFMuSsR",
        "outputId": "bea66139-58f9-47e3-c14e-03b315b0f432"
      },
      "execution_count": 212,
      "outputs": [
        {
          "output_type": "execute_result",
          "data": {
            "text/plain": [
              "(180,)"
            ]
          },
          "metadata": {},
          "execution_count": 212
        }
      ]
    },
    {
      "cell_type": "code",
      "source": [
        "X.ndim"
      ],
      "metadata": {
        "colab": {
          "base_uri": "https://localhost:8080/"
        },
        "id": "Z-hgATWFuUt-",
        "outputId": "5ae705d3-a6c5-41d3-8017-66082a485037"
      },
      "execution_count": 213,
      "outputs": [
        {
          "output_type": "execute_result",
          "data": {
            "text/plain": [
              "1"
            ]
          },
          "metadata": {},
          "execution_count": 213
        }
      ]
    },
    {
      "cell_type": "code",
      "source": [
        "y.ndim"
      ],
      "metadata": {
        "colab": {
          "base_uri": "https://localhost:8080/"
        },
        "id": "qkgHOePPuYuk",
        "outputId": "730d4dcb-2d68-4c64-8af7-88b5a6e7a1c1"
      },
      "execution_count": 214,
      "outputs": [
        {
          "output_type": "execute_result",
          "data": {
            "text/plain": [
              "1"
            ]
          },
          "metadata": {},
          "execution_count": 214
        }
      ]
    },
    {
      "cell_type": "code",
      "source": [
        "X_train = X[:-20]\n",
        "X_test = X[-20:]\n",
        "len(X_train), len(X_test)"
      ],
      "metadata": {
        "colab": {
          "base_uri": "https://localhost:8080/"
        },
        "id": "6sObSGEyubsH",
        "outputId": "1eaa712d-0858-47c2-dddb-7beff6d37334"
      },
      "execution_count": 215,
      "outputs": [
        {
          "output_type": "execute_result",
          "data": {
            "text/plain": [
              "(160, 20)"
            ]
          },
          "metadata": {},
          "execution_count": 215
        }
      ]
    },
    {
      "cell_type": "code",
      "source": [
        "y_train = y[:-20]\n",
        "y_test = y[-20:]\n",
        "len(y_train), len(y_test)"
      ],
      "metadata": {
        "colab": {
          "base_uri": "https://localhost:8080/"
        },
        "id": "Rxwk_a5su5Tb",
        "outputId": "15b6ecc8-17e3-4a3c-bf4d-a67ac62e4c14"
      },
      "execution_count": 216,
      "outputs": [
        {
          "output_type": "execute_result",
          "data": {
            "text/plain": [
              "(160, 20)"
            ]
          },
          "metadata": {},
          "execution_count": 216
        }
      ]
    },
    {
      "cell_type": "code",
      "source": [
        "regression = linear_model.LinearRegression()\n",
        "\n",
        "regression.fit(X_train.reshape(-1, 1), y_train)"
      ],
      "metadata": {
        "colab": {
          "base_uri": "https://localhost:8080/",
          "height": 80
        },
        "id": "haRJRVBSvHrk",
        "outputId": "82c70ee8-a438-4414-94b7-2b8fa34d3746"
      },
      "execution_count": 217,
      "outputs": [
        {
          "output_type": "execute_result",
          "data": {
            "text/plain": [
              "LinearRegression()"
            ],
            "text/html": [
              "<style>#sk-container-id-12 {\n",
              "  /* Definition of color scheme common for light and dark mode */\n",
              "  --sklearn-color-text: black;\n",
              "  --sklearn-color-line: gray;\n",
              "  /* Definition of color scheme for unfitted estimators */\n",
              "  --sklearn-color-unfitted-level-0: #fff5e6;\n",
              "  --sklearn-color-unfitted-level-1: #f6e4d2;\n",
              "  --sklearn-color-unfitted-level-2: #ffe0b3;\n",
              "  --sklearn-color-unfitted-level-3: chocolate;\n",
              "  /* Definition of color scheme for fitted estimators */\n",
              "  --sklearn-color-fitted-level-0: #f0f8ff;\n",
              "  --sklearn-color-fitted-level-1: #d4ebff;\n",
              "  --sklearn-color-fitted-level-2: #b3dbfd;\n",
              "  --sklearn-color-fitted-level-3: cornflowerblue;\n",
              "\n",
              "  /* Specific color for light theme */\n",
              "  --sklearn-color-text-on-default-background: var(--sg-text-color, var(--theme-code-foreground, var(--jp-content-font-color1, black)));\n",
              "  --sklearn-color-background: var(--sg-background-color, var(--theme-background, var(--jp-layout-color0, white)));\n",
              "  --sklearn-color-border-box: var(--sg-text-color, var(--theme-code-foreground, var(--jp-content-font-color1, black)));\n",
              "  --sklearn-color-icon: #696969;\n",
              "\n",
              "  @media (prefers-color-scheme: dark) {\n",
              "    /* Redefinition of color scheme for dark theme */\n",
              "    --sklearn-color-text-on-default-background: var(--sg-text-color, var(--theme-code-foreground, var(--jp-content-font-color1, white)));\n",
              "    --sklearn-color-background: var(--sg-background-color, var(--theme-background, var(--jp-layout-color0, #111)));\n",
              "    --sklearn-color-border-box: var(--sg-text-color, var(--theme-code-foreground, var(--jp-content-font-color1, white)));\n",
              "    --sklearn-color-icon: #878787;\n",
              "  }\n",
              "}\n",
              "\n",
              "#sk-container-id-12 {\n",
              "  color: var(--sklearn-color-text);\n",
              "}\n",
              "\n",
              "#sk-container-id-12 pre {\n",
              "  padding: 0;\n",
              "}\n",
              "\n",
              "#sk-container-id-12 input.sk-hidden--visually {\n",
              "  border: 0;\n",
              "  clip: rect(1px 1px 1px 1px);\n",
              "  clip: rect(1px, 1px, 1px, 1px);\n",
              "  height: 1px;\n",
              "  margin: -1px;\n",
              "  overflow: hidden;\n",
              "  padding: 0;\n",
              "  position: absolute;\n",
              "  width: 1px;\n",
              "}\n",
              "\n",
              "#sk-container-id-12 div.sk-dashed-wrapped {\n",
              "  border: 1px dashed var(--sklearn-color-line);\n",
              "  margin: 0 0.4em 0.5em 0.4em;\n",
              "  box-sizing: border-box;\n",
              "  padding-bottom: 0.4em;\n",
              "  background-color: var(--sklearn-color-background);\n",
              "}\n",
              "\n",
              "#sk-container-id-12 div.sk-container {\n",
              "  /* jupyter's `normalize.less` sets `[hidden] { display: none; }`\n",
              "     but bootstrap.min.css set `[hidden] { display: none !important; }`\n",
              "     so we also need the `!important` here to be able to override the\n",
              "     default hidden behavior on the sphinx rendered scikit-learn.org.\n",
              "     See: https://github.com/scikit-learn/scikit-learn/issues/21755 */\n",
              "  display: inline-block !important;\n",
              "  position: relative;\n",
              "}\n",
              "\n",
              "#sk-container-id-12 div.sk-text-repr-fallback {\n",
              "  display: none;\n",
              "}\n",
              "\n",
              "div.sk-parallel-item,\n",
              "div.sk-serial,\n",
              "div.sk-item {\n",
              "  /* draw centered vertical line to link estimators */\n",
              "  background-image: linear-gradient(var(--sklearn-color-text-on-default-background), var(--sklearn-color-text-on-default-background));\n",
              "  background-size: 2px 100%;\n",
              "  background-repeat: no-repeat;\n",
              "  background-position: center center;\n",
              "}\n",
              "\n",
              "/* Parallel-specific style estimator block */\n",
              "\n",
              "#sk-container-id-12 div.sk-parallel-item::after {\n",
              "  content: \"\";\n",
              "  width: 100%;\n",
              "  border-bottom: 2px solid var(--sklearn-color-text-on-default-background);\n",
              "  flex-grow: 1;\n",
              "}\n",
              "\n",
              "#sk-container-id-12 div.sk-parallel {\n",
              "  display: flex;\n",
              "  align-items: stretch;\n",
              "  justify-content: center;\n",
              "  background-color: var(--sklearn-color-background);\n",
              "  position: relative;\n",
              "}\n",
              "\n",
              "#sk-container-id-12 div.sk-parallel-item {\n",
              "  display: flex;\n",
              "  flex-direction: column;\n",
              "}\n",
              "\n",
              "#sk-container-id-12 div.sk-parallel-item:first-child::after {\n",
              "  align-self: flex-end;\n",
              "  width: 50%;\n",
              "}\n",
              "\n",
              "#sk-container-id-12 div.sk-parallel-item:last-child::after {\n",
              "  align-self: flex-start;\n",
              "  width: 50%;\n",
              "}\n",
              "\n",
              "#sk-container-id-12 div.sk-parallel-item:only-child::after {\n",
              "  width: 0;\n",
              "}\n",
              "\n",
              "/* Serial-specific style estimator block */\n",
              "\n",
              "#sk-container-id-12 div.sk-serial {\n",
              "  display: flex;\n",
              "  flex-direction: column;\n",
              "  align-items: center;\n",
              "  background-color: var(--sklearn-color-background);\n",
              "  padding-right: 1em;\n",
              "  padding-left: 1em;\n",
              "}\n",
              "\n",
              "\n",
              "/* Toggleable style: style used for estimator/Pipeline/ColumnTransformer box that is\n",
              "clickable and can be expanded/collapsed.\n",
              "- Pipeline and ColumnTransformer use this feature and define the default style\n",
              "- Estimators will overwrite some part of the style using the `sk-estimator` class\n",
              "*/\n",
              "\n",
              "/* Pipeline and ColumnTransformer style (default) */\n",
              "\n",
              "#sk-container-id-12 div.sk-toggleable {\n",
              "  /* Default theme specific background. It is overwritten whether we have a\n",
              "  specific estimator or a Pipeline/ColumnTransformer */\n",
              "  background-color: var(--sklearn-color-background);\n",
              "}\n",
              "\n",
              "/* Toggleable label */\n",
              "#sk-container-id-12 label.sk-toggleable__label {\n",
              "  cursor: pointer;\n",
              "  display: block;\n",
              "  width: 100%;\n",
              "  margin-bottom: 0;\n",
              "  padding: 0.5em;\n",
              "  box-sizing: border-box;\n",
              "  text-align: center;\n",
              "}\n",
              "\n",
              "#sk-container-id-12 label.sk-toggleable__label-arrow:before {\n",
              "  /* Arrow on the left of the label */\n",
              "  content: \"▸\";\n",
              "  float: left;\n",
              "  margin-right: 0.25em;\n",
              "  color: var(--sklearn-color-icon);\n",
              "}\n",
              "\n",
              "#sk-container-id-12 label.sk-toggleable__label-arrow:hover:before {\n",
              "  color: var(--sklearn-color-text);\n",
              "}\n",
              "\n",
              "/* Toggleable content - dropdown */\n",
              "\n",
              "#sk-container-id-12 div.sk-toggleable__content {\n",
              "  max-height: 0;\n",
              "  max-width: 0;\n",
              "  overflow: hidden;\n",
              "  text-align: left;\n",
              "  /* unfitted */\n",
              "  background-color: var(--sklearn-color-unfitted-level-0);\n",
              "}\n",
              "\n",
              "#sk-container-id-12 div.sk-toggleable__content.fitted {\n",
              "  /* fitted */\n",
              "  background-color: var(--sklearn-color-fitted-level-0);\n",
              "}\n",
              "\n",
              "#sk-container-id-12 div.sk-toggleable__content pre {\n",
              "  margin: 0.2em;\n",
              "  border-radius: 0.25em;\n",
              "  color: var(--sklearn-color-text);\n",
              "  /* unfitted */\n",
              "  background-color: var(--sklearn-color-unfitted-level-0);\n",
              "}\n",
              "\n",
              "#sk-container-id-12 div.sk-toggleable__content.fitted pre {\n",
              "  /* unfitted */\n",
              "  background-color: var(--sklearn-color-fitted-level-0);\n",
              "}\n",
              "\n",
              "#sk-container-id-12 input.sk-toggleable__control:checked~div.sk-toggleable__content {\n",
              "  /* Expand drop-down */\n",
              "  max-height: 200px;\n",
              "  max-width: 100%;\n",
              "  overflow: auto;\n",
              "}\n",
              "\n",
              "#sk-container-id-12 input.sk-toggleable__control:checked~label.sk-toggleable__label-arrow:before {\n",
              "  content: \"▾\";\n",
              "}\n",
              "\n",
              "/* Pipeline/ColumnTransformer-specific style */\n",
              "\n",
              "#sk-container-id-12 div.sk-label input.sk-toggleable__control:checked~label.sk-toggleable__label {\n",
              "  color: var(--sklearn-color-text);\n",
              "  background-color: var(--sklearn-color-unfitted-level-2);\n",
              "}\n",
              "\n",
              "#sk-container-id-12 div.sk-label.fitted input.sk-toggleable__control:checked~label.sk-toggleable__label {\n",
              "  background-color: var(--sklearn-color-fitted-level-2);\n",
              "}\n",
              "\n",
              "/* Estimator-specific style */\n",
              "\n",
              "/* Colorize estimator box */\n",
              "#sk-container-id-12 div.sk-estimator input.sk-toggleable__control:checked~label.sk-toggleable__label {\n",
              "  /* unfitted */\n",
              "  background-color: var(--sklearn-color-unfitted-level-2);\n",
              "}\n",
              "\n",
              "#sk-container-id-12 div.sk-estimator.fitted input.sk-toggleable__control:checked~label.sk-toggleable__label {\n",
              "  /* fitted */\n",
              "  background-color: var(--sklearn-color-fitted-level-2);\n",
              "}\n",
              "\n",
              "#sk-container-id-12 div.sk-label label.sk-toggleable__label,\n",
              "#sk-container-id-12 div.sk-label label {\n",
              "  /* The background is the default theme color */\n",
              "  color: var(--sklearn-color-text-on-default-background);\n",
              "}\n",
              "\n",
              "/* On hover, darken the color of the background */\n",
              "#sk-container-id-12 div.sk-label:hover label.sk-toggleable__label {\n",
              "  color: var(--sklearn-color-text);\n",
              "  background-color: var(--sklearn-color-unfitted-level-2);\n",
              "}\n",
              "\n",
              "/* Label box, darken color on hover, fitted */\n",
              "#sk-container-id-12 div.sk-label.fitted:hover label.sk-toggleable__label.fitted {\n",
              "  color: var(--sklearn-color-text);\n",
              "  background-color: var(--sklearn-color-fitted-level-2);\n",
              "}\n",
              "\n",
              "/* Estimator label */\n",
              "\n",
              "#sk-container-id-12 div.sk-label label {\n",
              "  font-family: monospace;\n",
              "  font-weight: bold;\n",
              "  display: inline-block;\n",
              "  line-height: 1.2em;\n",
              "}\n",
              "\n",
              "#sk-container-id-12 div.sk-label-container {\n",
              "  text-align: center;\n",
              "}\n",
              "\n",
              "/* Estimator-specific */\n",
              "#sk-container-id-12 div.sk-estimator {\n",
              "  font-family: monospace;\n",
              "  border: 1px dotted var(--sklearn-color-border-box);\n",
              "  border-radius: 0.25em;\n",
              "  box-sizing: border-box;\n",
              "  margin-bottom: 0.5em;\n",
              "  /* unfitted */\n",
              "  background-color: var(--sklearn-color-unfitted-level-0);\n",
              "}\n",
              "\n",
              "#sk-container-id-12 div.sk-estimator.fitted {\n",
              "  /* fitted */\n",
              "  background-color: var(--sklearn-color-fitted-level-0);\n",
              "}\n",
              "\n",
              "/* on hover */\n",
              "#sk-container-id-12 div.sk-estimator:hover {\n",
              "  /* unfitted */\n",
              "  background-color: var(--sklearn-color-unfitted-level-2);\n",
              "}\n",
              "\n",
              "#sk-container-id-12 div.sk-estimator.fitted:hover {\n",
              "  /* fitted */\n",
              "  background-color: var(--sklearn-color-fitted-level-2);\n",
              "}\n",
              "\n",
              "/* Specification for estimator info (e.g. \"i\" and \"?\") */\n",
              "\n",
              "/* Common style for \"i\" and \"?\" */\n",
              "\n",
              ".sk-estimator-doc-link,\n",
              "a:link.sk-estimator-doc-link,\n",
              "a:visited.sk-estimator-doc-link {\n",
              "  float: right;\n",
              "  font-size: smaller;\n",
              "  line-height: 1em;\n",
              "  font-family: monospace;\n",
              "  background-color: var(--sklearn-color-background);\n",
              "  border-radius: 1em;\n",
              "  height: 1em;\n",
              "  width: 1em;\n",
              "  text-decoration: none !important;\n",
              "  margin-left: 1ex;\n",
              "  /* unfitted */\n",
              "  border: var(--sklearn-color-unfitted-level-1) 1pt solid;\n",
              "  color: var(--sklearn-color-unfitted-level-1);\n",
              "}\n",
              "\n",
              ".sk-estimator-doc-link.fitted,\n",
              "a:link.sk-estimator-doc-link.fitted,\n",
              "a:visited.sk-estimator-doc-link.fitted {\n",
              "  /* fitted */\n",
              "  border: var(--sklearn-color-fitted-level-1) 1pt solid;\n",
              "  color: var(--sklearn-color-fitted-level-1);\n",
              "}\n",
              "\n",
              "/* On hover */\n",
              "div.sk-estimator:hover .sk-estimator-doc-link:hover,\n",
              ".sk-estimator-doc-link:hover,\n",
              "div.sk-label-container:hover .sk-estimator-doc-link:hover,\n",
              ".sk-estimator-doc-link:hover {\n",
              "  /* unfitted */\n",
              "  background-color: var(--sklearn-color-unfitted-level-3);\n",
              "  color: var(--sklearn-color-background);\n",
              "  text-decoration: none;\n",
              "}\n",
              "\n",
              "div.sk-estimator.fitted:hover .sk-estimator-doc-link.fitted:hover,\n",
              ".sk-estimator-doc-link.fitted:hover,\n",
              "div.sk-label-container:hover .sk-estimator-doc-link.fitted:hover,\n",
              ".sk-estimator-doc-link.fitted:hover {\n",
              "  /* fitted */\n",
              "  background-color: var(--sklearn-color-fitted-level-3);\n",
              "  color: var(--sklearn-color-background);\n",
              "  text-decoration: none;\n",
              "}\n",
              "\n",
              "/* Span, style for the box shown on hovering the info icon */\n",
              ".sk-estimator-doc-link span {\n",
              "  display: none;\n",
              "  z-index: 9999;\n",
              "  position: relative;\n",
              "  font-weight: normal;\n",
              "  right: .2ex;\n",
              "  padding: .5ex;\n",
              "  margin: .5ex;\n",
              "  width: min-content;\n",
              "  min-width: 20ex;\n",
              "  max-width: 50ex;\n",
              "  color: var(--sklearn-color-text);\n",
              "  box-shadow: 2pt 2pt 4pt #999;\n",
              "  /* unfitted */\n",
              "  background: var(--sklearn-color-unfitted-level-0);\n",
              "  border: .5pt solid var(--sklearn-color-unfitted-level-3);\n",
              "}\n",
              "\n",
              ".sk-estimator-doc-link.fitted span {\n",
              "  /* fitted */\n",
              "  background: var(--sklearn-color-fitted-level-0);\n",
              "  border: var(--sklearn-color-fitted-level-3);\n",
              "}\n",
              "\n",
              ".sk-estimator-doc-link:hover span {\n",
              "  display: block;\n",
              "}\n",
              "\n",
              "/* \"?\"-specific style due to the `<a>` HTML tag */\n",
              "\n",
              "#sk-container-id-12 a.estimator_doc_link {\n",
              "  float: right;\n",
              "  font-size: 1rem;\n",
              "  line-height: 1em;\n",
              "  font-family: monospace;\n",
              "  background-color: var(--sklearn-color-background);\n",
              "  border-radius: 1rem;\n",
              "  height: 1rem;\n",
              "  width: 1rem;\n",
              "  text-decoration: none;\n",
              "  /* unfitted */\n",
              "  color: var(--sklearn-color-unfitted-level-1);\n",
              "  border: var(--sklearn-color-unfitted-level-1) 1pt solid;\n",
              "}\n",
              "\n",
              "#sk-container-id-12 a.estimator_doc_link.fitted {\n",
              "  /* fitted */\n",
              "  border: var(--sklearn-color-fitted-level-1) 1pt solid;\n",
              "  color: var(--sklearn-color-fitted-level-1);\n",
              "}\n",
              "\n",
              "/* On hover */\n",
              "#sk-container-id-12 a.estimator_doc_link:hover {\n",
              "  /* unfitted */\n",
              "  background-color: var(--sklearn-color-unfitted-level-3);\n",
              "  color: var(--sklearn-color-background);\n",
              "  text-decoration: none;\n",
              "}\n",
              "\n",
              "#sk-container-id-12 a.estimator_doc_link.fitted:hover {\n",
              "  /* fitted */\n",
              "  background-color: var(--sklearn-color-fitted-level-3);\n",
              "}\n",
              "</style><div id=\"sk-container-id-12\" class=\"sk-top-container\"><div class=\"sk-text-repr-fallback\"><pre>LinearRegression()</pre><b>In a Jupyter environment, please rerun this cell to show the HTML representation or trust the notebook. <br />On GitHub, the HTML representation is unable to render, please try loading this page with nbviewer.org.</b></div><div class=\"sk-container\" hidden><div class=\"sk-item\"><div class=\"sk-estimator fitted sk-toggleable\"><input class=\"sk-toggleable__control sk-hidden--visually\" id=\"sk-estimator-id-12\" type=\"checkbox\" checked><label for=\"sk-estimator-id-12\" class=\"sk-toggleable__label fitted sk-toggleable__label-arrow fitted\">&nbsp;&nbsp;LinearRegression<a class=\"sk-estimator-doc-link fitted\" rel=\"noreferrer\" target=\"_blank\" href=\"https://scikit-learn.org/1.5/modules/generated/sklearn.linear_model.LinearRegression.html\">?<span>Documentation for LinearRegression</span></a><span class=\"sk-estimator-doc-link fitted\">i<span>Fitted</span></span></label><div class=\"sk-toggleable__content fitted\"><pre>LinearRegression()</pre></div> </div></div></div></div>"
            ]
          },
          "metadata": {},
          "execution_count": 217
        }
      ]
    },
    {
      "cell_type": "code",
      "source": [
        "y_pred = regression.predict(X_test.reshape(-1, 1))"
      ],
      "metadata": {
        "id": "AyOXFJnovuMM"
      },
      "execution_count": 218,
      "outputs": []
    },
    {
      "cell_type": "code",
      "source": [
        "y_pred"
      ],
      "metadata": {
        "colab": {
          "base_uri": "https://localhost:8080/"
        },
        "id": "0W-T7FBvv00e",
        "outputId": "fc817573-5f49-4bae-977a-9cf3f95b52f1"
      },
      "execution_count": 219,
      "outputs": [
        {
          "output_type": "execute_result",
          "data": {
            "text/plain": [
              "array([22.36323447, 22.50352868, 22.64382288, 22.78411708, 22.92441129,\n",
              "       23.06470549, 23.20499969, 23.3452939 , 23.4855881 , 23.62588231,\n",
              "       23.76617651, 23.90647071, 24.04676492, 24.18705912, 24.32735332,\n",
              "       24.46764753, 24.60794173, 24.74823594, 24.88853014, 25.02882434])"
            ]
          },
          "metadata": {},
          "execution_count": 219
        }
      ]
    },
    {
      "cell_type": "code",
      "source": [
        "def mse_cost(y_true, y_pred):\n",
        "    return np.mean((y_true - y_pred) ** 2)"
      ],
      "metadata": {
        "id": "efF0zYC12vbG"
      },
      "execution_count": 220,
      "outputs": []
    },
    {
      "cell_type": "code",
      "source": [
        "mse_value = mse_cost(y_test, y_pred)\n",
        "print(f'MSE is {mse_value}')"
      ],
      "metadata": {
        "colab": {
          "base_uri": "https://localhost:8080/"
        },
        "id": "yHn4lhzF25Us",
        "outputId": "6379e796-bbcd-4081-b53a-401ae867aa24"
      },
      "execution_count": 221,
      "outputs": [
        {
          "output_type": "stream",
          "name": "stdout",
          "text": [
            "MSE is 0.26079908197371626\n"
          ]
        }
      ]
    },
    {
      "cell_type": "code",
      "source": [
        "plt.figure(figsize=(10, 6))\n",
        "plt.scatter(X_test, y_test, color=\"black\", label=\"True Data\")\n",
        "\n",
        "actual_line = 2.5 * X_test\n",
        "plt.plot(X_test, actual_line, color=\"green\", linewidth=2, linestyle='--', label=\"Actual Line\")\n",
        "\n",
        "plt.plot(X_test, y_pred, color=\"red\", linewidth=2, label=\"Predicted Line\")\n",
        "\n",
        "plt.title(\"Linear Regression Fit\")\n",
        "plt.xlabel(\"Feature (X)\")\n",
        "plt.ylabel(\"Target (y)\")\n",
        "plt.legend()\n",
        "plt.grid(True)\n",
        "plt.show()"
      ],
      "metadata": {
        "colab": {
          "base_uri": "https://localhost:8080/",
          "height": 564
        },
        "id": "a14QO2b1v7Je",
        "outputId": "21b28aa1-98b9-40ca-f335-0af4faa65d2e"
      },
      "execution_count": 222,
      "outputs": [
        {
          "output_type": "display_data",
          "data": {
            "text/plain": [
              "<Figure size 1000x600 with 1 Axes>"
            ],
            "image/png": "[encoded data removed]"
          },
          "metadata": {}
        }
      ]
    },
    {
      "cell_type": "code",
      "source": [
        "x_new = np.array([[8.674]])\n",
        "y_pred_new = regression.predict(x_new)\n",
        "print(f'Predicted value for x_new: {y_pred_new[0]}')"
      ],
      "metadata": {
        "colab": {
          "base_uri": "https://localhost:8080/"
        },
        "id": "lwJU3u3n2rJh",
        "outputId": "7c1a8203-4cb9-4fbc-bf53-e6920bba7d02"
      },
      "execution_count": 224,
      "outputs": [
        {
          "output_type": "stream",
          "name": "stdout",
          "text": [
            "Predicted value for x_new: 21.69888530066318\n"
          ]
        }
      ]
    },
    {
      "cell_type": "code",
      "source": [
        "8.674 * 2.5 + 0.4"
      ],
      "metadata": {
        "colab": {
          "base_uri": "https://localhost:8080/"
        },
        "id": "s4BwsmGR5pLr",
        "outputId": "4eaaf3cd-6ba6-4322-957f-b9471738d0df"
      },
      "execution_count": 223,
      "outputs": [
        {
          "output_type": "execute_result",
          "data": {
            "text/plain": [
              "21.685"
            ]
          },
          "metadata": {},
          "execution_count": 223
        }
      ]
    },
    {
      "cell_type": "code",
      "source": [
        "np.random.normal(0, 0.5, n_samples)"
      ],
      "metadata": {
        "colab": {
          "base_uri": "https://localhost:8080/"
        },
        "id": "_jX4QPUx6GXn",
        "outputId": "dd26f76f-2eec-432d-8fab-c1fae7bda8c1"
      },
      "execution_count": 225,
      "outputs": [
        {
          "output_type": "execute_result",
          "data": {
            "text/plain": [
              "array([ 0.31283367, -0.42857878, -0.53544625,  0.24123621, -0.11173139,\n",
              "        0.35700025,  0.23661881, -0.03641446, -0.42339686, -0.75742361,\n",
              "       -0.22325748,  0.4281994 ,  0.10704687, -0.62286939,  0.08659046,\n",
              "        0.19265869, -0.44192872,  0.07686255,  0.02910436, -0.57148515,\n",
              "        0.17889368,  0.28039226,  0.54152562,  0.52690103, -0.68883468,\n",
              "       -0.46891252,  0.25751763,  0.25689298,  0.25752384,  1.92636575,\n",
              "        0.28544526,  0.56778282,  0.47700088,  0.32569563, -0.15763462,\n",
              "        0.37948461, -0.38641261, -0.1184093 , -0.24268177,  0.04093707,\n",
              "        1.15732928, -0.9336326 ,  0.3431301 , -0.80635794, -0.23596593,\n",
              "        0.5444753 ,  0.03214001, -0.53887239, -0.35765185,  0.33979887,\n",
              "       -0.36518332,  0.10822929,  0.02278592, -0.32580017,  1.07197204,\n",
              "        0.31695951, -1.01257129,  0.09322716, -0.33089323,  0.42621667,\n",
              "       -0.39626037, -0.05736822,  0.25249364,  0.4328776 , -0.6001482 ,\n",
              "       -0.16725062, -0.23747266, -0.32666462,  0.88272712,  0.20249086,\n",
              "       -0.63044198,  0.45893097,  1.0610781 ,  0.51623263, -0.75968498,\n",
              "       -0.24211704,  0.63345557, -0.35383473,  0.22190971,  0.38731703,\n",
              "       -0.46346524, -0.02976268, -1.62063367, -0.51219382, -0.12628408,\n",
              "       -0.62389159,  0.81620565, -0.71507069, -0.22002224,  0.06537029,\n",
              "        0.72063664, -0.71793108,  0.58158188,  0.00511653, -0.49075433,\n",
              "        0.23105174,  0.09952985, -0.30010844,  0.03490104, -0.1926568 ,\n",
              "        0.05675867,  0.33106534,  0.79300841, -0.61890775,  1.06651669,\n",
              "       -0.9760439 , -0.07589255,  0.2941586 ,  0.14049593, -0.31134976,\n",
              "       -0.10406113, -0.24650047, -0.29468238,  0.42480105,  0.17850774,\n",
              "       -0.3464548 ,  0.44979994,  0.15364976,  0.40643106,  0.31481442,\n",
              "       -0.41449751, -0.28009052,  0.3736468 ,  0.30518513, -0.0104508 ,\n",
              "        0.05866369,  0.63883245, -0.29578569,  0.27354869, -0.10109633,\n",
              "       -0.1088406 ,  0.54938843,  0.41270817,  0.40675482,  0.6527394 ,\n",
              "        0.01050192,  0.34097649, -0.15513338,  0.16208318, -0.06507153,\n",
              "        0.04849798,  0.29757851, -0.40911034,  1.04619364, -0.50300869,\n",
              "       -0.60709431,  0.57905544,  0.39583135,  0.31205991,  0.31417275,\n",
              "       -0.00612339, -0.44862719,  0.03790228, -0.33858086,  0.48755987,\n",
              "       -0.07352869, -0.4127486 , -0.16069292,  0.20646573, -0.28186228,\n",
              "       -0.4111102 ,  0.12184361,  0.12248329, -0.25347159, -0.23551915,\n",
              "        0.11602497, -0.72404217, -0.70373189, -0.35922211, -0.10672358,\n",
              "        0.15545378,  0.73767811,  0.42882981, -0.07996926, -0.0095081 ,\n",
              "       -0.50126468, -0.00925657, -0.14432932,  0.16135928, -0.41361547])"
            ]
          },
          "metadata": {},
          "execution_count": 225
        }
      ]
    }
  ]
}