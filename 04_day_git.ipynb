{
  "nbformat": 4,
  "nbformat_minor": 0,
  "metadata": {
    "colab": {
      "provenance": []
    },
    "kernelspec": {
      "name": "python3",
      "display_name": "Python 3"
    },
    "language_info": {
      "name": "python"
    }
  },
  "cells": [
    {
      "cell_type": "markdown",
      "source": [
        "# Today Talked about git\n",
        "\n",
        "> We have studied following things\n",
        "- What is git ?\n",
        "- What are services available ?\n",
        "- Areas of git\n",
        "- Commands we understood\n",
        "  - `git init`:  Initializes a new Git repository.\n",
        "  - `git clone`\n",
        "  Creates a local copy of a remote repository.\n",
        "  - `git add`\n",
        "  Adds files to the staging area for tracking.\n",
        "  - `git commit`\n",
        "  Creates a snapshot of the changes in the staging area.\n",
        "  - `git push`\n",
        "  Uploads local commits to a remote repository.\n",
        "  - `git pull`\n",
        "  Fetches changes from a remote repository and merges them into the local branch.\n",
        "  - `git status`\n",
        "  Shows the current status of the repository, including changes that have been made and files that have been staged.\n",
        "\n",
        "Thanks to Gemini for content."
      ],
      "metadata": {
        "id": "3JoBMzFPIxtD"
      }
    }
  ]
}