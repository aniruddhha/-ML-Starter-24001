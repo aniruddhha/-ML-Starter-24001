{
  "nbformat": 4,
  "nbformat_minor": 0,
  "metadata": {
    "colab": {
      "provenance": []
    },
    "kernelspec": {
      "name": "python3",
      "display_name": "Python 3"
    },
    "language_info": {
      "name": "python"
    }
  },
  "cells": [
    {
      "cell_type": "code",
      "source": [
        "# python classes and objects\n",
        "\n",
        "class Car:\n",
        "\n",
        "  def __init__(self, speed = 0, color = 'red', rpm = 100): # constructor\n",
        "    # print(self)\n",
        "    self.speed = speed\n",
        "    self.color = color\n",
        "    self.rpm = rpm\n",
        "\n",
        "  def __str__(self) -> str: # text representation\n",
        "    return f'Car(speed={self.speed}, color={self.color}, rpm={self.rpm})'\n",
        "\n",
        "  def accelerate(self):\n",
        "    self.speed += 10\n",
        "\n",
        "  def brake(self):\n",
        "    self.speed -= 10\n"
      ],
      "metadata": {
        "id": "unQR3CZARvXD"
      },
      "execution_count": 17,
      "outputs": []
    },
    {
      "cell_type": "code",
      "source": [
        "cr = Car()\n",
        "print(cr)"
      ],
      "metadata": {
        "colab": {
          "base_uri": "https://localhost:8080/"
        },
        "id": "-RFwt8OjSXmh",
        "outputId": "56f6d845-971c-414a-e5b7-25be87496419"
      },
      "execution_count": 18,
      "outputs": [
        {
          "output_type": "stream",
          "name": "stdout",
          "text": [
            "Car(speed=0, color=red, rpm=100)\n"
          ]
        }
      ]
    },
    {
      "cell_type": "code",
      "source": [
        "class Bmw(Car): # Bmw extends Car\n",
        "  def __init__(self, speed, color, rpm, adas):\n",
        "    super().__init__(speed, color, rpm)\n",
        "    self.adas = True\n",
        "\n",
        "  def __str__(self) -> str:\n",
        "    return f'Bmw(speed={self.speed}, color={self.color}, rpm={self.rpm}, adas={self.adas})'\n",
        "\n",
        "  def accelerate(self):\n",
        "    if self.adas:\n",
        "      self.speed += 30\n",
        "    else:\n",
        "      self.speed += 40"
      ],
      "metadata": {
        "id": "tTlkC3NvUmJ6"
      },
      "execution_count": 21,
      "outputs": []
    },
    {
      "cell_type": "code",
      "source": [
        "b = Bmw(400, 'blue', 900, True)\n",
        "print(b)\n",
        "b.accelerate()\n",
        "print(b)"
      ],
      "metadata": {
        "colab": {
          "base_uri": "https://localhost:8080/"
        },
        "id": "K3SnSL6WVPHk",
        "outputId": "75ca9d45-0dfc-4ff2-87d3-038025629fa7"
      },
      "execution_count": 22,
      "outputs": [
        {
          "output_type": "stream",
          "name": "stdout",
          "text": [
            "Bmw(speed=400, color=blue, rpm=900, adas=True)\n",
            "Bmw(speed=430, color=blue, rpm=900, adas=True)\n"
          ]
        }
      ]
    },
    {
      "cell_type": "code",
      "source": [
        "# there is no private in python, but python internally achieves it using name mangling\n",
        "\n",
        "class Bank:\n",
        "  def __init__(self, balance) -> None:\n",
        "    self.name = 'Bank'\n",
        "    self.__balance = balance # private\n",
        "\n",
        "  def get_balance(self):\n",
        "    return self.__balance\n",
        "\n",
        "  def set_balance(self, balance):\n",
        "    self.__balance = balance"
      ],
      "metadata": {
        "id": "Wnje4YBnWRtp"
      },
      "execution_count": 32,
      "outputs": []
    },
    {
      "cell_type": "code",
      "source": [
        "bank = Bank(1000)\n",
        "print(bank.get_balance())\n",
        "bank.set_balance(2000)\n",
        "print(bank)\n",
        "print(bank.name)\n",
        "# print(bank.__balance)\n",
        "print(bank._Bank__balance)"
      ],
      "metadata": {
        "colab": {
          "base_uri": "https://localhost:8080/"
        },
        "id": "0sW5g8FGWioZ",
        "outputId": "4dd7391b-8fda-45b2-e231-c53cca6db2a4"
      },
      "execution_count": 33,
      "outputs": [
        {
          "output_type": "stream",
          "name": "stdout",
          "text": [
            "1000\n",
            "<__main__.Bank object at 0x791000b82740>\n",
            "Bank\n",
            "2000\n"
          ]
        }
      ]
    },
    {
      "cell_type": "code",
      "source": [
        "class BankDetails: # good name\n",
        "  ...\n",
        "\n",
        "class BankAtm: # good name\n",
        "  ...\n",
        "\n",
        "st = str('abc')\n",
        "print(type(st))\n",
        "lst = list([1, 2, 3])\n",
        "print(type(lst))\n",
        "print(len(lst))\n",
        "dct = dict({'a': 1, 'b': 2})\n",
        "tup = tuple((1, 2, 3))\n",
        "\n",
        "lst2 = [1 , 3, 4]\n",
        "print(type(lst2))\n",
        "\n",
        "class abc: # bad name\n",
        "  pass\n",
        "\n"
      ],
      "metadata": {
        "colab": {
          "base_uri": "https://localhost:8080/"
        },
        "id": "GWrQfjoIYbVM",
        "outputId": "afefbe3a-d8f9-46b6-afa3-64c8114318aa"
      },
      "execution_count": 37,
      "outputs": [
        {
          "output_type": "stream",
          "name": "stdout",
          "text": [
            "<class 'str'>\n",
            "<class 'list'>\n",
            "3\n",
            "<class 'list'>\n"
          ]
        }
      ]
    }
  ]
}