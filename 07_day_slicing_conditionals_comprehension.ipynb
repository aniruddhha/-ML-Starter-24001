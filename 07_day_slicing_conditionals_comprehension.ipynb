{
  "nbformat": 4,
  "nbformat_minor": 0,
  "metadata": {
    "colab": {
      "provenance": []
    },
    "kernelspec": {
      "name": "python3",
      "display_name": "Python 3"
    },
    "language_info": {
      "name": "python"
    }
  },
  "cells": [
    {
      "cell_type": "markdown",
      "source": [
        "# Day 07: We have Covered Below Topics\n",
        "- Slicing\n",
        "- Conditionals\n",
        "- List Comprehensions"
      ],
      "metadata": {
        "id": "7k2bY4sdn2wR"
      }
    },
    {
      "cell_type": "markdown",
      "source": [
        "# **slicing:** **`seq[start:stop:step]`**\n",
        "\n",
        "> slice creates new sequenece and it will not impact original one."
      ],
      "metadata": {
        "id": "9n_ZT4ZVbG_c"
      }
    },
    {
      "cell_type": "code",
      "source": [
        "lst_nums = [1, 2, 3, 4, 5, 6, 7, 8, 9, 10]"
      ],
      "metadata": {
        "id": "AwrlqnivaLxP"
      },
      "execution_count": 1,
      "outputs": []
    },
    {
      "cell_type": "markdown",
      "source": [
        "## Normal"
      ],
      "metadata": {
        "id": "3a3t9lB8bbRj"
      }
    },
    {
      "cell_type": "code",
      "source": [
        "lst_nums[2:5]"
      ],
      "metadata": {
        "colab": {
          "base_uri": "https://localhost:8080/"
        },
        "id": "uWTy-sKmaknl",
        "outputId": "087bbb93-b01c-4bc2-89d0-b997465f1bbe"
      },
      "execution_count": 5,
      "outputs": [
        {
          "output_type": "execute_result",
          "data": {
            "text/plain": [
              "[3, 4, 5]"
            ]
          },
          "metadata": {},
          "execution_count": 5
        }
      ]
    },
    {
      "cell_type": "markdown",
      "source": [
        "## With Step"
      ],
      "metadata": {
        "id": "ZK2NgSzybeHI"
      }
    },
    {
      "cell_type": "code",
      "source": [
        "lst_nums[1:9:1]"
      ],
      "metadata": {
        "colab": {
          "base_uri": "https://localhost:8080/"
        },
        "id": "QojIt-3ba2_r",
        "outputId": "12cb855c-5e61-498b-9cd4-368ddfbce62a"
      },
      "execution_count": 4,
      "outputs": [
        {
          "output_type": "execute_result",
          "data": {
            "text/plain": [
              "[2, 3, 4, 5, 6, 7, 8, 9]"
            ]
          },
          "metadata": {},
          "execution_count": 4
        }
      ]
    },
    {
      "cell_type": "markdown",
      "source": [
        "## Omitting Start/Stop"
      ],
      "metadata": {
        "id": "nOxu4xlFbg3G"
      }
    },
    {
      "cell_type": "code",
      "source": [
        "# Omitting Start\n",
        "lst_nums[:5]"
      ],
      "metadata": {
        "colab": {
          "base_uri": "https://localhost:8080/"
        },
        "id": "LYYA9gbrbl-N",
        "outputId": "d623c770-3ef5-4ae2-abe0-0a653ceab1c9"
      },
      "execution_count": 6,
      "outputs": [
        {
          "output_type": "execute_result",
          "data": {
            "text/plain": [
              "[1, 2, 3, 4, 5]"
            ]
          },
          "metadata": {},
          "execution_count": 6
        }
      ]
    },
    {
      "cell_type": "code",
      "source": [
        "# Omitting Stop\n",
        "lst_nums[2:]"
      ],
      "metadata": {
        "colab": {
          "base_uri": "https://localhost:8080/"
        },
        "id": "0OpUzgJsb01l",
        "outputId": "889790e0-a201-4b82-8f03-8e45e82d0971"
      },
      "execution_count": 7,
      "outputs": [
        {
          "output_type": "execute_result",
          "data": {
            "text/plain": [
              "[3, 4, 5, 6, 7, 8, 9, 10]"
            ]
          },
          "metadata": {},
          "execution_count": 7
        }
      ]
    },
    {
      "cell_type": "markdown",
      "source": [
        "## Negative Indices"
      ],
      "metadata": {
        "id": "B6jOcLaRb6kL"
      }
    },
    {
      "cell_type": "code",
      "source": [
        "lst_nums[-1], lst_nums[-2], lst_nums[-3], lst_nums[-4], lst_nums[-5]"
      ],
      "metadata": {
        "colab": {
          "base_uri": "https://localhost:8080/"
        },
        "id": "QnSc0hRmb9PY",
        "outputId": "48e36e40-7518-4b93-9698-52b842a3d972"
      },
      "execution_count": 9,
      "outputs": [
        {
          "output_type": "execute_result",
          "data": {
            "text/plain": [
              "(10, 9, 8, 7, 6)"
            ]
          },
          "metadata": {},
          "execution_count": 9
        }
      ]
    },
    {
      "cell_type": "code",
      "source": [
        "# Negative Start and Negative Stop\n",
        "lst_nums[-5:-2]"
      ],
      "metadata": {
        "colab": {
          "base_uri": "https://localhost:8080/"
        },
        "id": "Bx8BUJHxcRHt",
        "outputId": "71e32367-4ed3-4db0-cdca-9901d6c12a17"
      },
      "execution_count": 10,
      "outputs": [
        {
          "output_type": "execute_result",
          "data": {
            "text/plain": [
              "[6, 7, 8]"
            ]
          },
          "metadata": {},
          "execution_count": 10
        }
      ]
    },
    {
      "cell_type": "code",
      "source": [
        "# Negative Omit Start\n",
        "lst_nums[:-2]"
      ],
      "metadata": {
        "colab": {
          "base_uri": "https://localhost:8080/"
        },
        "id": "F8QnukWbcgPP",
        "outputId": "94df9db8-0136-4eae-9012-7d1371b15236"
      },
      "execution_count": 11,
      "outputs": [
        {
          "output_type": "execute_result",
          "data": {
            "text/plain": [
              "[1, 2, 3, 4, 5, 6, 7, 8]"
            ]
          },
          "metadata": {},
          "execution_count": 11
        }
      ]
    },
    {
      "cell_type": "code",
      "source": [
        "# Negative Omit End\n",
        "lst_nums[-5:]"
      ],
      "metadata": {
        "colab": {
          "base_uri": "https://localhost:8080/"
        },
        "id": "YWO6wioJcqpf",
        "outputId": "db5dc5f0-dec2-4c63-ed7c-c2a5874f55a8"
      },
      "execution_count": 12,
      "outputs": [
        {
          "output_type": "execute_result",
          "data": {
            "text/plain": [
              "[6, 7, 8, 9, 10]"
            ]
          },
          "metadata": {},
          "execution_count": 12
        }
      ]
    },
    {
      "cell_type": "code",
      "source": [
        "# Posstive Start and Negative End\n",
        "lst_nums[2:-2]"
      ],
      "metadata": {
        "colab": {
          "base_uri": "https://localhost:8080/"
        },
        "id": "4WuJgKdOcvoV",
        "outputId": "f2aebf3e-2ee0-4b81-aedb-b1ba289d93dd"
      },
      "execution_count": 13,
      "outputs": [
        {
          "output_type": "execute_result",
          "data": {
            "text/plain": [
              "[3, 4, 5, 6, 7, 8]"
            ]
          },
          "metadata": {},
          "execution_count": 13
        }
      ]
    },
    {
      "cell_type": "markdown",
      "source": [
        "## Negative Step"
      ],
      "metadata": {
        "id": "FBwI80IvdUKP"
      }
    },
    {
      "cell_type": "code",
      "source": [
        "lst_nums[::-1]"
      ],
      "metadata": {
        "colab": {
          "base_uri": "https://localhost:8080/"
        },
        "id": "CITjnJktc-zE",
        "outputId": "edddc4b2-3ab5-4bd6-bcf8-bcd17579bf01"
      },
      "execution_count": 14,
      "outputs": [
        {
          "output_type": "execute_result",
          "data": {
            "text/plain": [
              "[10, 9, 8, 7, 6, 5, 4, 3, 2, 1]"
            ]
          },
          "metadata": {},
          "execution_count": 14
        }
      ]
    },
    {
      "cell_type": "markdown",
      "source": [
        "## Out of Range Indices"
      ],
      "metadata": {
        "id": "D5mfFB7HdZ9_"
      }
    },
    {
      "cell_type": "code",
      "source": [
        "lst_nums[100]"
      ],
      "metadata": {
        "colab": {
          "base_uri": "https://localhost:8080/",
          "height": 144
        },
        "id": "LAt8903IddJN",
        "outputId": "94ef195f-d106-430d-e166-77189992a794"
      },
      "execution_count": 15,
      "outputs": [
        {
          "output_type": "error",
          "ename": "IndexError",
          "evalue": "list index out of range",
          "traceback": [
            "\u001b[0;31m---------------------------------------------------------------------------\u001b[0m",
            "\u001b[0;31mIndexError\u001b[0m                                Traceback (most recent call last)",
            "\u001b[0;32m<ipython-input-15-8616c06e82ce>\u001b[0m in \u001b[0;36m<cell line: 1>\u001b[0;34m()\u001b[0m\n\u001b[0;32m----> 1\u001b[0;31m \u001b[0mlst_nums\u001b[0m\u001b[0;34m[\u001b[0m\u001b[0;36m100\u001b[0m\u001b[0;34m]\u001b[0m\u001b[0;34m\u001b[0m\u001b[0;34m\u001b[0m\u001b[0m\n\u001b[0m",
            "\u001b[0;31mIndexError\u001b[0m: list index out of range"
          ]
        }
      ]
    },
    {
      "cell_type": "code",
      "source": [
        "lst_nums[1:99]"
      ],
      "metadata": {
        "colab": {
          "base_uri": "https://localhost:8080/"
        },
        "id": "IJaMwJhQdkQx",
        "outputId": "1895e344-6477-4626-d437-abbb57694d73"
      },
      "execution_count": 16,
      "outputs": [
        {
          "output_type": "execute_result",
          "data": {
            "text/plain": [
              "[2, 3, 4, 5, 6, 7, 8, 9, 10]"
            ]
          },
          "metadata": {},
          "execution_count": 16
        }
      ]
    },
    {
      "cell_type": "code",
      "source": [
        "lst_nums[1::99]"
      ],
      "metadata": {
        "colab": {
          "base_uri": "https://localhost:8080/"
        },
        "id": "VQGvG1gUd7SJ",
        "outputId": "1f3e3d9a-2673-4b11-959c-373fe9b96854"
      },
      "execution_count": 18,
      "outputs": [
        {
          "output_type": "execute_result",
          "data": {
            "text/plain": [
              "[2]"
            ]
          },
          "metadata": {},
          "execution_count": 18
        }
      ]
    },
    {
      "cell_type": "markdown",
      "source": [
        "# **Conditionals**"
      ],
      "metadata": {
        "id": "xvuYBXE_e2cD"
      }
    },
    {
      "cell_type": "markdown",
      "source": [
        "## if...else"
      ],
      "metadata": {
        "id": "N8f_Gj5ogwdp"
      }
    },
    {
      "cell_type": "code",
      "source": [
        "day: int = 1\n",
        "\n",
        "if day == 1:\n",
        "    print(\"Monday\")\n",
        "elif day == 2:\n",
        "    print(\"Tuesday\")\n",
        "else:\n",
        "    print(\"Invalid Day\")"
      ],
      "metadata": {
        "colab": {
          "base_uri": "https://localhost:8080/"
        },
        "id": "kObNaawifGMp",
        "outputId": "d2f3e2cf-eacb-48b0-f2f6-2fb779ea0320"
      },
      "execution_count": 21,
      "outputs": [
        {
          "output_type": "stream",
          "name": "stdout",
          "text": [
            "Monday\n"
          ]
        }
      ]
    },
    {
      "cell_type": "code",
      "source": [
        "# Truthiness\n",
        "if True:\n",
        "  print('True Printed')\n",
        "\n",
        "if 'abc':\n",
        "  print('abc Printed')\n",
        "\n",
        "if 123:\n",
        "  print('123 Printed')\n",
        "\n",
        "if -1: # True\n",
        "  print('-1 Printed')\n",
        "\n",
        "# Falsyness\n",
        "\n",
        "if 0: # go is else\n",
        "  print('0 Printed')\n",
        "\n",
        "if None: # go is else\n",
        "  print('None Printed')\n",
        "\n",
        "if '': # go is else\n",
        "  print('Printed')\n",
        "\n"
      ],
      "metadata": {
        "colab": {
          "base_uri": "https://localhost:8080/"
        },
        "id": "N4n5b4RZfRgO",
        "outputId": "2e19db54-1709-492f-a0c4-dbdc6cf454a1"
      },
      "execution_count": 26,
      "outputs": [
        {
          "output_type": "stream",
          "name": "stdout",
          "text": [
            "True Printed\n",
            "abc Printed\n",
            "123 Printed\n",
            "-1 Printed\n"
          ]
        }
      ]
    },
    {
      "cell_type": "code",
      "source": [
        "# nested if else demo\n",
        "\n",
        "marks = 80\n",
        "\n",
        "if marks >= 90:\n",
        "  if marks >= 95:\n",
        "    print(\"A+\")\n",
        "  else:\n",
        "    print(\"A\")"
      ],
      "metadata": {
        "id": "5scVG8_yfzTe"
      },
      "execution_count": 27,
      "outputs": []
    },
    {
      "cell_type": "markdown",
      "source": [
        "## Loops"
      ],
      "metadata": {
        "id": "v3Bf1NdcgyQs"
      }
    },
    {
      "cell_type": "code",
      "source": [
        "# while loop\n",
        "\n",
        "cnt: int = 10\n",
        "while cnt > 0:\n",
        "  print(cnt)\n",
        "  cnt -= 1"
      ],
      "metadata": {
        "colab": {
          "base_uri": "https://localhost:8080/"
        },
        "id": "6f1_upWdg0WC",
        "outputId": "469fae43-5240-45c6-908d-ecec236587b0"
      },
      "execution_count": 28,
      "outputs": [
        {
          "output_type": "stream",
          "name": "stdout",
          "text": [
            "10\n",
            "9\n",
            "8\n",
            "7\n",
            "6\n",
            "5\n",
            "4\n",
            "3\n",
            "2\n",
            "1\n"
          ]
        }
      ]
    },
    {
      "cell_type": "code",
      "source": [
        "# for loop\n",
        "\n",
        "for i in range(10):\n",
        "  print(i)"
      ],
      "metadata": {
        "colab": {
          "base_uri": "https://localhost:8080/"
        },
        "id": "mCdF3dfbhDEh",
        "outputId": "fe32a9dc-2fc9-45e9-f8a5-121a1ba1fa55"
      },
      "execution_count": 29,
      "outputs": [
        {
          "output_type": "stream",
          "name": "stdout",
          "text": [
            "0\n",
            "1\n",
            "2\n",
            "3\n",
            "4\n",
            "5\n",
            "6\n",
            "7\n",
            "8\n",
            "9\n"
          ]
        }
      ]
    },
    {
      "cell_type": "code",
      "source": [
        "# for loop with list\n",
        "\n",
        "lst = [1, 2, 3, 4, 5]\n",
        "for i in lst:\n",
        "  print(i)"
      ],
      "metadata": {
        "colab": {
          "base_uri": "https://localhost:8080/"
        },
        "id": "nC3Vh9aNhOGr",
        "outputId": "500281a6-7928-460d-ec02-c3a12158055a"
      },
      "execution_count": 30,
      "outputs": [
        {
          "output_type": "stream",
          "name": "stdout",
          "text": [
            "1\n",
            "2\n",
            "3\n",
            "4\n",
            "5\n"
          ]
        }
      ]
    },
    {
      "cell_type": "code",
      "source": [
        "# break demo\n",
        "\n",
        "for i in range(10):\n",
        "  if i == 5:\n",
        "    break\n",
        "  print(i)"
      ],
      "metadata": {
        "colab": {
          "base_uri": "https://localhost:8080/"
        },
        "id": "CUUvLt_lh9Sr",
        "outputId": "419bfdff-e334-42fc-e338-fcb3f0583b6d"
      },
      "execution_count": 31,
      "outputs": [
        {
          "output_type": "stream",
          "name": "stdout",
          "text": [
            "0\n",
            "1\n",
            "2\n",
            "3\n",
            "4\n"
          ]
        }
      ]
    },
    {
      "cell_type": "code",
      "source": [
        "# continue demo\n",
        "\n",
        "for i in range(10):\n",
        "  if i == 5:\n",
        "    continue\n",
        "  print(i)"
      ],
      "metadata": {
        "colab": {
          "base_uri": "https://localhost:8080/"
        },
        "id": "l9EpSfYGiBjD",
        "outputId": "ae7a1550-63cd-4b34-e4fa-b95b6bac02b3"
      },
      "execution_count": 32,
      "outputs": [
        {
          "output_type": "stream",
          "name": "stdout",
          "text": [
            "0\n",
            "1\n",
            "2\n",
            "3\n",
            "4\n",
            "6\n",
            "7\n",
            "8\n",
            "9\n"
          ]
        }
      ]
    },
    {
      "cell_type": "code",
      "source": [
        "# nesting of loops, print tables from 2 to 10\n",
        "\n",
        "for i in range(1, 11):\n",
        "  for j in range(2, 11):\n",
        "    print(i * j, end=\" \")\n",
        "  print()"
      ],
      "metadata": {
        "colab": {
          "base_uri": "https://localhost:8080/"
        },
        "id": "dFqLu3k0iLWA",
        "outputId": "c5d1e2f5-5cdb-4463-e378-3a80ae068c96"
      },
      "execution_count": 34,
      "outputs": [
        {
          "output_type": "stream",
          "name": "stdout",
          "text": [
            "2 3 4 5 6 7 8 9 10 \n",
            "4 6 8 10 12 14 16 18 20 \n",
            "6 9 12 15 18 21 24 27 30 \n",
            "8 12 16 20 24 28 32 36 40 \n",
            "10 15 20 25 30 35 40 45 50 \n",
            "12 18 24 30 36 42 48 54 60 \n",
            "14 21 28 35 42 49 56 63 70 \n",
            "16 24 32 40 48 56 64 72 80 \n",
            "18 27 36 45 54 63 72 81 90 \n",
            "20 30 40 50 60 70 80 90 100 \n"
          ]
        }
      ]
    },
    {
      "cell_type": "markdown",
      "source": [],
      "metadata": {
        "id": "wpwCoHR9ir5-"
      }
    },
    {
      "cell_type": "markdown",
      "source": [
        "# **List Comprehensions**"
      ],
      "metadata": {
        "id": "w5RZD6-sjK7D"
      }
    },
    {
      "cell_type": "code",
      "source": [
        "squares = []\n",
        "for i in range(1, 11):\n",
        "  squares.append(i * i)\n",
        "squares"
      ],
      "metadata": {
        "colab": {
          "base_uri": "https://localhost:8080/"
        },
        "id": "vJxMyOJSjNej",
        "outputId": "68b5ff5d-f191-4f46-a5c2-08964015f6ae"
      },
      "execution_count": 37,
      "outputs": [
        {
          "output_type": "execute_result",
          "data": {
            "text/plain": [
              "[1, 4, 9, 16, 25, 36, 49, 64, 81, 100]"
            ]
          },
          "metadata": {},
          "execution_count": 37
        }
      ]
    },
    {
      "cell_type": "code",
      "source": [
        "# Now List Comprehension will give you list like below\n",
        "\n",
        "squares = [i * i for i in range(1, 11)]\n",
        "squares"
      ],
      "metadata": {
        "colab": {
          "base_uri": "https://localhost:8080/"
        },
        "id": "MVzgW1lhjfWM",
        "outputId": "2edfa6fe-ea39-4e76-cc85-237a794bb25e"
      },
      "execution_count": 40,
      "outputs": [
        {
          "output_type": "execute_result",
          "data": {
            "text/plain": [
              "[1, 4, 9, 16, 25, 36, 49, 64, 81, 100]"
            ]
          },
          "metadata": {},
          "execution_count": 40
        }
      ]
    },
    {
      "cell_type": "code",
      "source": [
        "# Conditional List Comprehension e.g Square of only even numbers\n",
        "\n",
        "squares = [i * i for i in range(1, 11) if i % 2 == 0]\n",
        "squares"
      ],
      "metadata": {
        "colab": {
          "base_uri": "https://localhost:8080/"
        },
        "id": "WKe0HmjpjxPm",
        "outputId": "27a21072-3c10-46a2-f009-c00ec3c9baa5"
      },
      "execution_count": 42,
      "outputs": [
        {
          "output_type": "execute_result",
          "data": {
            "text/plain": [
              "[4, 16, 36, 64, 100]"
            ]
          },
          "metadata": {},
          "execution_count": 42
        }
      ]
    },
    {
      "cell_type": "code",
      "source": [
        "# Nested List Comprehension\n",
        "\n",
        "matrix = [\n",
        "    [1, 2, 3],\n",
        "    [4, 5, 6],\n",
        "    [7, 8, 9]\n",
        "  ]\n",
        "# [ 1, 2, 3, 4, 5, 6, 7, 8, 9 ]\n",
        "\n",
        "flattened = [num for row in matrix for num in row]\n",
        "flattened"
      ],
      "metadata": {
        "colab": {
          "base_uri": "https://localhost:8080/"
        },
        "id": "pkMnxxk0lLM1",
        "outputId": "5d65dd5c-3cab-4058-a8e9-7ad9deab9716"
      },
      "execution_count": 43,
      "outputs": [
        {
          "output_type": "execute_result",
          "data": {
            "text/plain": [
              "[1, 2, 3, 4, 5, 6, 7, 8, 9]"
            ]
          },
          "metadata": {},
          "execution_count": 43
        }
      ]
    },
    {
      "cell_type": "code",
      "source": [
        "# flattening without List Comprehension normally\n",
        "\n",
        "flattened = []\n",
        "for row in matrix: # [1, 2, 3] applying for-loop for getting single elements\n",
        "  for num in row:\n",
        "    flattened.append(num)\n",
        "flattened"
      ],
      "metadata": {
        "id": "ndxqYxY2lej0"
      },
      "execution_count": null,
      "outputs": []
    }
  ]
}