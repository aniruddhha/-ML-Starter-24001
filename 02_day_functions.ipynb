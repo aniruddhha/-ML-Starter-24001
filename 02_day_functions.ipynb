{
  "nbformat": 4,
  "nbformat_minor": 0,
  "metadata": {
    "colab": {
      "provenance": []
    },
    "kernelspec": {
      "name": "python3",
      "display_name": "Python 3"
    },
    "language_info": {
      "name": "python"
    }
  },
  "cells": [
    {
      "cell_type": "markdown",
      "source": [
        "# functions\n",
        "- parameter to functions\n",
        "- return statement\n",
        "- default parameters\n",
        "- Functional Programming\n",
        "  - Functions can assigned to variables\n",
        "  - Functions can be passed as paramters to other function\n",
        "  - Functions can be returned from other functions"
      ],
      "metadata": {
        "id": "aT2-oOcPUA3O"
      }
    },
    {
      "cell_type": "code",
      "execution_count": 3,
      "metadata": {
        "id": "Z838CwbeK0qq"
      },
      "outputs": [],
      "source": [
        "def connect_to_my_pc():\n",
        "  print('Connecting to Database')"
      ]
    },
    {
      "cell_type": "code",
      "source": [
        "connect_to_my_pc()"
      ],
      "metadata": {
        "colab": {
          "base_uri": "https://localhost:8080/"
        },
        "id": "mF_CnbRxLTEO",
        "outputId": "c93b2bfa-3fe0-49b7-f0ae-8a3b3f50bdfa"
      },
      "execution_count": 4,
      "outputs": [
        {
          "output_type": "stream",
          "name": "stdout",
          "text": [
            "Connecting to Database\n"
          ]
        }
      ]
    },
    {
      "cell_type": "code",
      "source": [
        "def add_two_numbers(num1, num2):\n",
        "  \"\"\"\n",
        "    num1: int\n",
        "    num2: int\n",
        "    return int\n",
        "  \"\"\"\n",
        "  return num1 + num2"
      ],
      "metadata": {
        "id": "oUnZFEsMLdp5"
      },
      "execution_count": 6,
      "outputs": []
    },
    {
      "cell_type": "code",
      "source": [
        "sum = add_two_numbers(12, 67)\n",
        "print(f'Sum is {sum}')"
      ],
      "metadata": {
        "colab": {
          "base_uri": "https://localhost:8080/"
        },
        "id": "m8CUqZ9VMO3L",
        "outputId": "ac50f282-2520-4a39-f5e2-516def66f7af"
      },
      "execution_count": 7,
      "outputs": [
        {
          "output_type": "stream",
          "name": "stdout",
          "text": [
            "Sum is 79\n"
          ]
        }
      ]
    },
    {
      "source": [
        "def connect(url='localhost'):\n",
        "  \"\"\"Connects to a database.\n",
        "\n",
        "  Args:\n",
        "    url: The URL of the database to connect to.\n",
        "         Defaults to 'localhost'.\n",
        "\n",
        "  Prints:\n",
        "    A message indicating the database being connected to.\n",
        "  \"\"\"\n",
        "  print(f'Connecting to Db {url}')\n",
        "\n",
        "connect('ppt://abc.com')\n",
        "connect()"
      ],
      "cell_type": "code",
      "metadata": {
        "id": "F2srADhYOKgS"
      },
      "execution_count": null,
      "outputs": []
    },
    {
      "cell_type": "code",
      "source": [
        "def mk_sqr(num): # named function\n",
        "  return num ** 2\n",
        "\n",
        "print(f\"Square of 2 is {mk_sqr(2)}\")"
      ],
      "metadata": {
        "colab": {
          "base_uri": "https://localhost:8080/"
        },
        "id": "4meFjGnqN1fI",
        "outputId": "b3c7ea45-de49-4d71-ccdd-6cd9ac5241b1"
      },
      "execution_count": 11,
      "outputs": [
        {
          "output_type": "stream",
          "name": "stdout",
          "text": [
            "Square of 2 is 4\n"
          ]
        }
      ]
    },
    {
      "cell_type": "code",
      "source": [
        "fn_sqr = lambda num: num ** 2 # annomous function\n",
        "\n",
        "print(f\"Square of 2 is {fn_sqr(2)}\")"
      ],
      "metadata": {
        "id": "hw0jX7tZOnRN"
      },
      "execution_count": null,
      "outputs": []
    },
    {
      "cell_type": "code",
      "source": [
        "sqr_cpy = mk_sqr\n",
        "print(f\" Square of 8 is {sqr_cpy(8)}\")"
      ],
      "metadata": {
        "colab": {
          "base_uri": "https://localhost:8080/"
        },
        "id": "7k51NxAGQSya",
        "outputId": "ca59a57c-a9ae-47ea-aa50-ba70ec67f985"
      },
      "execution_count": 13,
      "outputs": [
        {
          "output_type": "stream",
          "name": "stdout",
          "text": [
            " Square of 8 is 64\n"
          ]
        }
      ]
    },
    {
      "cell_type": "code",
      "source": [
        "def simple_callback():\n",
        "  print('this is simple callbacl')"
      ],
      "metadata": {
        "id": "GUnEDsloSX1Q"
      },
      "execution_count": 15,
      "outputs": []
    },
    {
      "cell_type": "code",
      "source": [
        "def upload_csv(file, cb):\n",
        "  print('Uploading file')\n",
        "  print ('Successdully File Uploaded')\n",
        "\n",
        "  cb()\n",
        "\n",
        "upload_csv('mobiles.csv', lambda: print('File Uploaded'))\n",
        "upload_csv('mobiles.csv', simple_callback)"
      ],
      "metadata": {
        "colab": {
          "base_uri": "https://localhost:8080/"
        },
        "id": "pGfDiBiuRLeE",
        "outputId": "5588a468-2e1a-4727-b4b7-7736842fe277"
      },
      "execution_count": 16,
      "outputs": [
        {
          "output_type": "stream",
          "name": "stdout",
          "text": [
            "Uploading file\n",
            "Successdully File Uploaded\n",
            "File Uploaded\n",
            "Uploading file\n",
            "Successdully File Uploaded\n",
            "this is simple callbacl\n"
          ]
        }
      ]
    },
    {
      "cell_type": "code",
      "source": [
        "def fn_fn():\n",
        "\n",
        "  print('Demonstrating function returns another funtion')\n",
        "  # return simple_callback\n",
        "  return lambda: print('This callback using lambda')\n",
        "\n",
        "inner_fn = fn_fn() # calling outer fubction\n",
        "inner_fn()\n",
        "\n",
        "fn_fn()()\n"
      ],
      "metadata": {
        "colab": {
          "base_uri": "https://localhost:8080/"
        },
        "id": "QDvnd-qsSr-V",
        "outputId": "ab794409-4326-4552-e211-0fbaded1e87b"
      },
      "execution_count": 19,
      "outputs": [
        {
          "output_type": "stream",
          "name": "stdout",
          "text": [
            "Demonstrating function returns another funtion\n",
            "This callback using lambda\n",
            "Demonstrating function returns another funtion\n",
            "This callback using lambda\n"
          ]
        }
      ]
    }
  ]
}