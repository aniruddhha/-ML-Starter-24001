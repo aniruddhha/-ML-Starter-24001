{
  "nbformat": 4,
  "nbformat_minor": 0,
  "metadata": {
    "colab": {
      "provenance": []
    },
    "kernelspec": {
      "name": "python3",
      "display_name": "Python 3"
    },
    "language_info": {
      "name": "python"
    }
  },
  "cells": [
    {
      "cell_type": "markdown",
      "source": [
        "# **List Operations**"
      ],
      "metadata": {
        "id": "Y1WElDW7Vmxv"
      }
    },
    {
      "cell_type": "code",
      "source": [
        "mobiles = ['android', 'windows', 'ios', 'linux', 'mac']"
      ],
      "metadata": {
        "id": "xbVfqfiiRWYl"
      },
      "execution_count": 1,
      "outputs": []
    },
    {
      "cell_type": "markdown",
      "source": [
        "## List Add/Update Operation"
      ],
      "metadata": {
        "id": "TstEBQMZSGjj"
      }
    },
    {
      "cell_type": "code",
      "source": [
        "print(mobiles)\n",
        "mobiles.append('java') # Adds an element to the end.\n",
        "print(mobiles)"
      ],
      "metadata": {
        "colab": {
          "base_uri": "https://localhost:8080/"
        },
        "id": "5-JqcWkIR0Fi",
        "outputId": "3bc2d336-813e-4164-8b9d-c589ec0874bf"
      },
      "execution_count": 2,
      "outputs": [
        {
          "output_type": "stream",
          "name": "stdout",
          "text": [
            "['android', 'windows', 'ios', 'linux', 'mac']\n",
            "['android', 'windows', 'ios', 'linux', 'mac', 'java']\n"
          ]
        }
      ]
    },
    {
      "cell_type": "code",
      "source": [
        "print(mobiles)\n",
        "mobiles.insert(2, 'python') # inserts an element at a specified position.\n",
        "print(mobiles)"
      ],
      "metadata": {
        "colab": {
          "base_uri": "https://localhost:8080/"
        },
        "id": "DPEsYRlER9Ha",
        "outputId": "ba6c515d-7c64-4d7e-b2af-a99c6569d863"
      },
      "execution_count": 4,
      "outputs": [
        {
          "output_type": "stream",
          "name": "stdout",
          "text": [
            "['android', 'windows', 'python', 'ios', 'linux', 'mac', 'java']\n",
            "['android', 'windows', 'python', 'python', 'ios', 'linux', 'mac', 'java']\n"
          ]
        }
      ]
    },
    {
      "cell_type": "code",
      "source": [
        "print(mobiles)\n",
        "mobiles.extend(['c', 'c++', 'c#']) # Adds elements from an iterable to the end.\n",
        "print(mobiles)"
      ],
      "metadata": {
        "colab": {
          "base_uri": "https://localhost:8080/"
        },
        "id": "1abZ0kWbSvb3",
        "outputId": "0dd72622-b2b6-479d-c767-ba3c6f9c7349"
      },
      "execution_count": 6,
      "outputs": [
        {
          "output_type": "stream",
          "name": "stdout",
          "text": [
            "['android', 'ios', 'linux', 'mac']\n",
            "['android', 'ios', 'linux', 'mac', 'c', 'c++', 'c#']\n"
          ]
        }
      ]
    },
    {
      "cell_type": "markdown",
      "source": [
        "## List Remove Operation"
      ],
      "metadata": {
        "id": "tTweKPYoSKe8"
      }
    },
    {
      "cell_type": "code",
      "source": [
        "mobiles = ['android', 'windows', 'ios', 'linux', 'windows', 'mac']"
      ],
      "metadata": {
        "id": "NrlsbLRwSEjs"
      },
      "execution_count": 9,
      "outputs": []
    },
    {
      "cell_type": "code",
      "source": [
        "print(mobiles)\n",
        "mobiles.remove('windows') #  Removes the first occurrence of the element.\n",
        "print(mobiles)"
      ],
      "metadata": {
        "id": "Pt-m7_2jTLG-"
      },
      "execution_count": null,
      "outputs": []
    },
    {
      "cell_type": "code",
      "source": [
        "print(mobiles)\n",
        "popped = mobiles.pop(2) # Removes and returns element at the given index.\n",
        "print(popped)\n",
        "print(mobiles)"
      ],
      "metadata": {
        "colab": {
          "base_uri": "https://localhost:8080/"
        },
        "id": "m2ioskZnTQ4r",
        "outputId": "dbf3005b-9170-4fcf-b8ca-8f6cb2607d3c"
      },
      "execution_count": 10,
      "outputs": [
        {
          "output_type": "stream",
          "name": "stdout",
          "text": [
            "['android', 'windows', 'ios', 'linux', 'windows', 'mac']\n",
            "ios\n",
            "['android', 'windows', 'linux', 'windows', 'mac']\n"
          ]
        }
      ]
    },
    {
      "cell_type": "code",
      "source": [
        "print(mobiles)\n",
        "mobiles.clear() # Removes all elements from the list.\n",
        "print(mobiles)"
      ],
      "metadata": {
        "colab": {
          "base_uri": "https://localhost:8080/"
        },
        "id": "5PiRYI9xTidp",
        "outputId": "07a4830c-ce55-4f38-f064-d611d9e758e5"
      },
      "execution_count": 11,
      "outputs": [
        {
          "output_type": "stream",
          "name": "stdout",
          "text": [
            "['android', 'windows', 'linux', 'windows', 'mac']\n",
            "[]\n"
          ]
        }
      ]
    },
    {
      "cell_type": "code",
      "source": [],
      "metadata": {
        "id": "Mpvfabn8T46c"
      },
      "execution_count": null,
      "outputs": []
    },
    {
      "cell_type": "markdown",
      "source": [],
      "metadata": {
        "id": "hm7urUypT6B1"
      }
    },
    {
      "cell_type": "markdown",
      "source": [
        "## More List Specific Operations"
      ],
      "metadata": {
        "id": "yLIgc25CT7By"
      }
    },
    {
      "cell_type": "code",
      "source": [
        "numbers = [10, 99, 1, 1, 2, 3, 4, 5, 6, 7, 4, 8, 9]"
      ],
      "metadata": {
        "id": "siFMzPvAT-SV"
      },
      "execution_count": 23,
      "outputs": []
    },
    {
      "cell_type": "code",
      "source": [
        "idx = numbers.index(5) # Returns the index of the first occurrence of the element.\n",
        "print(idx)"
      ],
      "metadata": {
        "colab": {
          "base_uri": "https://localhost:8080/"
        },
        "id": "JfnFTPyaUN9t",
        "outputId": "e2a482e5-f96c-436f-9198-e96abedc28e2"
      },
      "execution_count": 24,
      "outputs": [
        {
          "output_type": "stream",
          "name": "stdout",
          "text": [
            "7\n"
          ]
        }
      ]
    },
    {
      "cell_type": "code",
      "source": [
        "cnt = numbers.count(4) # Returns the number of occurrences of the element.\n",
        "print(cnt)"
      ],
      "metadata": {
        "colab": {
          "base_uri": "https://localhost:8080/"
        },
        "id": "UYKA_gxCUl1q",
        "outputId": "305af181-e4a3-420b-8f3a-85d48c037447"
      },
      "execution_count": 25,
      "outputs": [
        {
          "output_type": "stream",
          "name": "stdout",
          "text": [
            "2\n"
          ]
        }
      ]
    },
    {
      "cell_type": "code",
      "source": [
        "numbers.sort() # Sorts the list in ascending order.\n",
        "print(numbers)"
      ],
      "metadata": {
        "colab": {
          "base_uri": "https://localhost:8080/"
        },
        "id": "QWx-JnOOUwDl",
        "outputId": "9f9de45c-b215-4f57-ff21-2f7176c3ab87"
      },
      "execution_count": 26,
      "outputs": [
        {
          "output_type": "stream",
          "name": "stdout",
          "text": [
            "[1, 1, 2, 3, 4, 4, 5, 6, 7, 8, 9, 10, 99]\n"
          ]
        }
      ]
    },
    {
      "cell_type": "code",
      "source": [
        "numbers.reverse() # Reverses the order of the elements in the list.\n",
        "print(numbers)"
      ],
      "metadata": {
        "colab": {
          "base_uri": "https://localhost:8080/"
        },
        "id": "bsWVC4mFVH-C",
        "outputId": "e3f70dfe-5f56-4c0d-b1cd-8eef4babda38"
      },
      "execution_count": 27,
      "outputs": [
        {
          "output_type": "stream",
          "name": "stdout",
          "text": [
            "[99, 10, 9, 8, 7, 6, 5, 4, 4, 3, 2, 1, 1]\n"
          ]
        }
      ]
    },
    {
      "cell_type": "code",
      "source": [
        "nums_copy = numbers.copy() # Returns a shallow copy of the list.\n",
        "print(nums_copy)"
      ],
      "metadata": {
        "colab": {
          "base_uri": "https://localhost:8080/"
        },
        "id": "1OTwwp62VNmZ",
        "outputId": "76ddeb19-df41-4f88-a2f4-a6e12bce47ef"
      },
      "execution_count": 28,
      "outputs": [
        {
          "output_type": "stream",
          "name": "stdout",
          "text": [
            "[99, 10, 9, 8, 7, 6, 5, 4, 4, 3, 2, 1, 1]\n"
          ]
        }
      ]
    },
    {
      "cell_type": "markdown",
      "source": [
        "## Concatenation"
      ],
      "metadata": {
        "id": "Kw_n35WrWANn"
      }
    },
    {
      "cell_type": "code",
      "source": [
        "lst1 = [1,2,3]\n",
        "lst2 = [4,5,6]\n",
        "lst3 = lst1 + lst2\n",
        "print(lst3)"
      ],
      "metadata": {
        "colab": {
          "base_uri": "https://localhost:8080/"
        },
        "id": "AlWFvrS2WD_S",
        "outputId": "a372e33b-b60d-45bd-d584-d7ae20b34be0"
      },
      "execution_count": 29,
      "outputs": [
        {
          "output_type": "stream",
          "name": "stdout",
          "text": [
            "[1, 2, 3, 4, 5, 6]\n"
          ]
        }
      ]
    },
    {
      "cell_type": "markdown",
      "source": [
        "# **Tuple Operations**"
      ],
      "metadata": {
        "id": "H2OxlWRvVzrb"
      }
    },
    {
      "cell_type": "markdown",
      "source": [
        "## Tuple Specific Opereations"
      ],
      "metadata": {
        "id": "n11hbiJsV3yy"
      }
    },
    {
      "cell_type": "code",
      "source": [
        "tup = ('android', 'windows', 'ios', 'linux', 'mac')"
      ],
      "metadata": {
        "id": "8c-VA_94Vy7n"
      },
      "execution_count": 31,
      "outputs": []
    },
    {
      "cell_type": "code",
      "source": [
        "tup.count('windows') # Returns the number of occurrences of the element."
      ],
      "metadata": {
        "colab": {
          "base_uri": "https://localhost:8080/"
        },
        "id": "9LYPvGAkWhYe",
        "outputId": "373444f2-17fd-42dd-d9f8-3486d24fbe81"
      },
      "execution_count": 32,
      "outputs": [
        {
          "output_type": "execute_result",
          "data": {
            "text/plain": [
              "1"
            ]
          },
          "metadata": {},
          "execution_count": 32
        }
      ]
    },
    {
      "cell_type": "code",
      "source": [
        "tup.index('linux') # Returns the index of the first occurrence of the element."
      ],
      "metadata": {
        "colab": {
          "base_uri": "https://localhost:8080/"
        },
        "id": "fsdiwLlGWlnZ",
        "outputId": "84224b69-ed31-42e7-a994-8bba490c3195"
      },
      "execution_count": 33,
      "outputs": [
        {
          "output_type": "execute_result",
          "data": {
            "text/plain": [
              "3"
            ]
          },
          "metadata": {},
          "execution_count": 33
        }
      ]
    },
    {
      "cell_type": "markdown",
      "source": [
        "## Packing and Unpacking"
      ],
      "metadata": {
        "id": "OCRjOL_rWsQw"
      }
    },
    {
      "cell_type": "code",
      "source": [
        "packed_tuple = 'android', 'windows'\n",
        "\n",
        "a, b = packed_tuple\n",
        "print(a)\n",
        "print(b)"
      ],
      "metadata": {
        "colab": {
          "base_uri": "https://localhost:8080/"
        },
        "id": "PsNxbnKvWuor",
        "outputId": "49fcb434-1a63-461a-f8bc-24b71ae2bce9"
      },
      "execution_count": 35,
      "outputs": [
        {
          "output_type": "stream",
          "name": "stdout",
          "text": [
            "android\n",
            "windows\n"
          ]
        }
      ]
    },
    {
      "cell_type": "markdown",
      "source": [
        "## Concatenation"
      ],
      "metadata": {
        "id": "pIYGCGfBXA9p"
      }
    },
    {
      "cell_type": "code",
      "source": [
        "tup1 = ('android', 'windows')\n",
        "tup2 = ('ios', 'linux')\n",
        "tup3 = tup1 + tup2\n",
        "print(tup3)"
      ],
      "metadata": {
        "colab": {
          "base_uri": "https://localhost:8080/"
        },
        "id": "YfYYP2yvXFGK",
        "outputId": "4da23f3a-5f12-4183-8ae1-9bd0e625b771"
      },
      "execution_count": 36,
      "outputs": [
        {
          "output_type": "stream",
          "name": "stdout",
          "text": [
            "('android', 'windows', 'ios', 'linux')\n"
          ]
        }
      ]
    },
    {
      "cell_type": "markdown",
      "source": [
        "## Repetation"
      ],
      "metadata": {
        "id": "XOvX7SoGXMZ4"
      }
    },
    {
      "cell_type": "code",
      "source": [
        "rep_tup = tup1 * 3\n",
        "print(rep_tup)"
      ],
      "metadata": {
        "colab": {
          "base_uri": "https://localhost:8080/"
        },
        "id": "Gi5py4lPXLaU",
        "outputId": "02877c33-4805-4592-d695-00045862bd5a"
      },
      "execution_count": 37,
      "outputs": [
        {
          "output_type": "stream",
          "name": "stdout",
          "text": [
            "('android', 'windows', 'android', 'windows', 'android', 'windows')\n"
          ]
        }
      ]
    },
    {
      "cell_type": "markdown",
      "source": [
        "## Single Valued Tuple"
      ],
      "metadata": {
        "id": "WCViagENXiQl"
      }
    },
    {
      "cell_type": "code",
      "source": [
        "tup_sn = ('abc',)\n",
        "print(type(tup_sn))"
      ],
      "metadata": {
        "colab": {
          "base_uri": "https://localhost:8080/"
        },
        "id": "CWBSm5C8XlMA",
        "outputId": "d00154b8-71e2-4ac1-e71b-892c7ae0b300"
      },
      "execution_count": 39,
      "outputs": [
        {
          "output_type": "stream",
          "name": "stdout",
          "text": [
            "<class 'tuple'>\n"
          ]
        }
      ]
    },
    {
      "cell_type": "markdown",
      "source": [
        "# **Set Operations**"
      ],
      "metadata": {
        "id": "2RXjL9TeYGOx"
      }
    },
    {
      "cell_type": "markdown",
      "source": [
        "## Add"
      ],
      "metadata": {
        "id": "HjD5vQ48XeOq"
      }
    },
    {
      "cell_type": "code",
      "source": [
        "st = { 1, 2, 3, 4, 5 }"
      ],
      "metadata": {
        "id": "ORCeWQ2QYSbh"
      },
      "execution_count": 41,
      "outputs": []
    },
    {
      "cell_type": "code",
      "source": [
        "print(st)\n",
        "st.add(6) # Adds an element to the set.\n",
        "print(st)"
      ],
      "metadata": {
        "colab": {
          "base_uri": "https://localhost:8080/"
        },
        "id": "TRdH-LGNYbyO",
        "outputId": "30b6a072-23af-452a-d5ed-2554dc6367d6"
      },
      "execution_count": 42,
      "outputs": [
        {
          "output_type": "stream",
          "name": "stdout",
          "text": [
            "{1, 2, 3, 4, 5}\n",
            "{1, 2, 3, 4, 5, 6}\n"
          ]
        }
      ]
    },
    {
      "cell_type": "markdown",
      "source": [
        "## Remove"
      ],
      "metadata": {
        "id": "BorKeW5UYp_P"
      }
    },
    {
      "cell_type": "code",
      "source": [
        "st = {'android', 'windows', 'ios', 'linux', 'mac'}"
      ],
      "metadata": {
        "id": "DguuNtY2Yl7E"
      },
      "execution_count": 44,
      "outputs": []
    },
    {
      "cell_type": "code",
      "source": [
        "print(st)\n",
        "st.remove('ios') # Removes the specified element from the set. If the element is not found, it raises a KeyError.\n",
        "print(st)"
      ],
      "metadata": {
        "colab": {
          "base_uri": "https://localhost:8080/"
        },
        "id": "yV7SpDYjY1VV",
        "outputId": "9bed32bc-a105-4792-af91-b8de9b9eff3a"
      },
      "execution_count": 45,
      "outputs": [
        {
          "output_type": "stream",
          "name": "stdout",
          "text": [
            "{'windows', 'android', 'linux', 'ios', 'mac'}\n",
            "{'windows', 'android', 'linux', 'mac'}\n"
          ]
        }
      ]
    },
    {
      "cell_type": "code",
      "source": [
        "print(st)\n",
        "st.discard('windows') # Removes the element if it exists; no error if the element is absent.\n",
        "print(st)"
      ],
      "metadata": {
        "colab": {
          "base_uri": "https://localhost:8080/"
        },
        "id": "_w48SgUHY9ZR",
        "outputId": "eb07b8a0-7b4c-44be-bf27-55c2e371292b"
      },
      "execution_count": 47,
      "outputs": [
        {
          "output_type": "stream",
          "name": "stdout",
          "text": [
            "{'windows', 'android', 'linux', 'mac'}\n",
            "{'android', 'linux', 'mac'}\n"
          ]
        }
      ]
    },
    {
      "cell_type": "code",
      "source": [
        "print(st)\n",
        "popped = st.pop() # Removes and returns an arbitrary element from the set. Raises KeyError if the set is empty.\n",
        "print(popped)\n",
        "print(st)"
      ],
      "metadata": {
        "colab": {
          "base_uri": "https://localhost:8080/"
        },
        "id": "k1K5wsHEZLt9",
        "outputId": "78bbf874-bf9d-49d8-d922-bebe76f600f2"
      },
      "execution_count": 50,
      "outputs": [
        {
          "output_type": "stream",
          "name": "stdout",
          "text": [
            "{'mac'}\n",
            "mac\n",
            "set()\n"
          ]
        }
      ]
    },
    {
      "cell_type": "markdown",
      "source": [
        "## Set Specific Operations"
      ],
      "metadata": {
        "id": "YSuMRBEFZhR_"
      }
    },
    {
      "cell_type": "code",
      "source": [
        "st1 = { 1, 2, 3 }\n",
        "st2 = { 2, 3, 4 }"
      ],
      "metadata": {
        "id": "Uy60Ei24ZkVG"
      },
      "execution_count": 52,
      "outputs": []
    },
    {
      "cell_type": "code",
      "source": [
        "# Union\n",
        "print(st1.union(st2))\n",
        "print(st1 | st2)"
      ],
      "metadata": {
        "colab": {
          "base_uri": "https://localhost:8080/"
        },
        "id": "9rryqM_WZ6Ex",
        "outputId": "430e296f-fabb-41b5-fc44-e69e9536775f"
      },
      "execution_count": 54,
      "outputs": [
        {
          "output_type": "stream",
          "name": "stdout",
          "text": [
            "{1, 2, 3, 4}\n",
            "{1, 2, 3, 4}\n"
          ]
        }
      ]
    },
    {
      "cell_type": "code",
      "source": [
        "# Difference\n",
        "print(st1.difference(st2))\n",
        "print(st1 - st2)"
      ],
      "metadata": {
        "colab": {
          "base_uri": "https://localhost:8080/"
        },
        "id": "CRIjgL4mactF",
        "outputId": "f562f99d-4433-483e-c454-010b49834a12"
      },
      "execution_count": 55,
      "outputs": [
        {
          "output_type": "stream",
          "name": "stdout",
          "text": [
            "{1}\n",
            "{1}\n"
          ]
        }
      ]
    },
    {
      "cell_type": "code",
      "source": [
        "# Intersection\n",
        "print(st1.intersection(st2))\n",
        "print(st1 & st2)"
      ],
      "metadata": {
        "colab": {
          "base_uri": "https://localhost:8080/"
        },
        "id": "5E9_7daAaoCt",
        "outputId": "b64b38c7-733f-43e2-85e9-7e6bdc334d3f"
      },
      "execution_count": 56,
      "outputs": [
        {
          "output_type": "stream",
          "name": "stdout",
          "text": [
            "{2, 3}\n",
            "{2, 3}\n"
          ]
        }
      ]
    },
    {
      "cell_type": "markdown",
      "source": [
        "# **Dictionary Operations**"
      ],
      "metadata": {
        "id": "_6G3mKh4a6DZ"
      }
    },
    {
      "cell_type": "code",
      "source": [
        "stu_dc = {'name': 'John', 'age': 20, 'grade': 'A'}"
      ],
      "metadata": {
        "id": "7RD6zKdxbA5L"
      },
      "execution_count": 57,
      "outputs": []
    },
    {
      "cell_type": "markdown",
      "source": [
        "## Adding Elements"
      ],
      "metadata": {
        "id": "M-dIWR8NbRHu"
      }
    },
    {
      "cell_type": "code",
      "source": [
        "print(stu_dc)\n",
        "stu_dc['city'] = 'Pune'\n",
        "print(stu_dc)"
      ],
      "metadata": {
        "colab": {
          "base_uri": "https://localhost:8080/"
        },
        "id": "Y2QqCZdtbU0c",
        "outputId": "47946f14-2769-4881-d087-35cab8fe7dfd"
      },
      "execution_count": 58,
      "outputs": [
        {
          "output_type": "stream",
          "name": "stdout",
          "text": [
            "{'name': 'John', 'age': 20, 'grade': 'A'}\n",
            "{'name': 'John', 'age': 20, 'grade': 'A', 'city': 'Pune'}\n"
          ]
        }
      ]
    },
    {
      "cell_type": "markdown",
      "source": [
        "## Removing Elements"
      ],
      "metadata": {
        "id": "aruXgYt1bf6N"
      }
    },
    {
      "cell_type": "code",
      "source": [
        "popped = stu_dc.pop('age') # Removes the specified key-value pair from the dictionary and returns the value.\n",
        "print(popped)\n",
        "print(stu_dc)"
      ],
      "metadata": {
        "colab": {
          "base_uri": "https://localhost:8080/"
        },
        "id": "EO6CPY6Ebe5U",
        "outputId": "a2685f3a-e192-46ac-88ae-f169e58bc971"
      },
      "execution_count": 59,
      "outputs": [
        {
          "output_type": "stream",
          "name": "stdout",
          "text": [
            "20\n",
            "{'name': 'John', 'grade': 'A', 'city': 'Pune'}\n"
          ]
        }
      ]
    },
    {
      "cell_type": "code",
      "source": [
        "popped = stu_dc.popitem() # Removes and returns an arbitrary key-value pair from the dictionary.\n",
        "print(popped)\n",
        "print(stu_dc)"
      ],
      "metadata": {
        "colab": {
          "base_uri": "https://localhost:8080/"
        },
        "id": "MPPAz3v5brLO",
        "outputId": "347a741b-6a51-4c8d-a876-b4b2588382a5"
      },
      "execution_count": 60,
      "outputs": [
        {
          "output_type": "stream",
          "name": "stdout",
          "text": [
            "('city', 'Pune')\n",
            "{'name': 'John', 'grade': 'A'}\n"
          ]
        }
      ]
    },
    {
      "cell_type": "code",
      "source": [
        "del stu_dc['grade'] # Removes the specified key-value pair from the dictionary.\n",
        "print(stu_dc)"
      ],
      "metadata": {
        "colab": {
          "base_uri": "https://localhost:8080/"
        },
        "id": "rG-fSP4jbyJJ",
        "outputId": "de7df979-1470-4d71-a76a-852b3fafe81b"
      },
      "execution_count": 61,
      "outputs": [
        {
          "output_type": "stream",
          "name": "stdout",
          "text": [
            "{'name': 'John'}\n"
          ]
        }
      ]
    },
    {
      "cell_type": "code",
      "source": [
        "stu_dc.clear() # Removes all key-value pairs from the dictionary.\n",
        "print(stu_dc)"
      ],
      "metadata": {
        "colab": {
          "base_uri": "https://localhost:8080/"
        },
        "id": "B3fGJIgAb3o8",
        "outputId": "7ec2207e-1cbf-4edc-c3c6-41571a71da65"
      },
      "execution_count": 62,
      "outputs": [
        {
          "output_type": "stream",
          "name": "stdout",
          "text": [
            "{}\n"
          ]
        }
      ]
    },
    {
      "cell_type": "markdown",
      "source": [
        "## Dictionary Specific Operations"
      ],
      "metadata": {
        "id": "Mz7u6sfVcJkF"
      }
    },
    {
      "cell_type": "code",
      "source": [
        "db_config = {\n",
        "    'host': 'localhost',\n",
        "    'port': 3306,\n",
        "    'user': 'root',\n",
        "    'password': 'password'\n",
        "  }"
      ],
      "metadata": {
        "id": "QLZ3p9hXcQbr"
      },
      "execution_count": 64,
      "outputs": []
    },
    {
      "cell_type": "code",
      "source": [
        "db_config.keys() # Returns a view object that displays a list of all the keys in the dictionary."
      ],
      "metadata": {
        "colab": {
          "base_uri": "https://localhost:8080/"
        },
        "id": "5a1XS9fdceYY",
        "outputId": "2499c061-e2cf-49fc-f103-5b6202337566"
      },
      "execution_count": 65,
      "outputs": [
        {
          "output_type": "execute_result",
          "data": {
            "text/plain": [
              "dict_keys(['host', 'port', 'user', 'password'])"
            ]
          },
          "metadata": {},
          "execution_count": 65
        }
      ]
    },
    {
      "cell_type": "code",
      "source": [
        "db_config.values() # Returns a view object that displays a list of all the values in the dictionary."
      ],
      "metadata": {
        "colab": {
          "base_uri": "https://localhost:8080/"
        },
        "id": "FAinhXG2coas",
        "outputId": "7ad1fc84-995b-4d69-9647-386f2988bc0b"
      },
      "execution_count": 66,
      "outputs": [
        {
          "output_type": "execute_result",
          "data": {
            "text/plain": [
              "dict_values(['localhost', 3306, 'root', 'password'])"
            ]
          },
          "metadata": {},
          "execution_count": 66
        }
      ]
    },
    {
      "cell_type": "code",
      "source": [
        "db_config.items() # Returns a view object that displays a list of all the key-value pairs in the dictionary."
      ],
      "metadata": {
        "colab": {
          "base_uri": "https://localhost:8080/"
        },
        "id": "SMI6tzLSdWJ5",
        "outputId": "92bfa6bf-26b1-4e84-9e9a-cbae8e55b780"
      },
      "execution_count": 67,
      "outputs": [
        {
          "output_type": "execute_result",
          "data": {
            "text/plain": [
              "dict_items([('host', 'localhost'), ('port', 3306), ('user', 'root'), ('password', 'password')])"
            ]
          },
          "metadata": {},
          "execution_count": 67
        }
      ]
    }
  ]
}